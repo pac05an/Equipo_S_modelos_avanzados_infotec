{
 "cells": [
  {
   "cell_type": "markdown",
   "metadata": {},
   "source": [
    "<h1><center>Modelos avanzados en ciencia de datos</center></h1>\n",
    "<h2><center>Proyecto Integrador</center></h2>\n",
    "<h2><center>American Express - Default Prediction</center></h2>\n",
    "<h5><center>\"Predict if a customer will default in the future\"</center></h5>\n",
    "\n",
    "<h2><center>Interantes del equipo:</center></h2>\n",
    "<center>Mat. Dulce María Reyes Lucas</center>\n",
    "<center>Act. Pablo Gómez Garcia</center>\n",
    "<center>Mat. Francisco Eduardo Zavala Rodríguez</center>\n",
    "\n",
    " "
   ]
  },
  {
   "cell_type": "markdown",
   "metadata": {},
   "source": [
    "<font color='black'><h1>Introducción</h1></font>\n",
    "\n",
    "<p style='text-align: justify;'>\n",
    "Los modelos de inteligencia artificial son en la actualidad muy utilizados en distintas áreas, no solo para su investigación, si bien es cierto, son herramientas que durante mucho tiempo han facilitado el manejo y comprensión de grandes volúmenes de\n",
    "información, compactándola y permitiendo realizar análisis cada vez más refinados.\n",
    "La importancia de este tema dentro de las áreas financieras ha sido de vital importancia ya que constantemente las instituciones financieras generan cantidades exorbitantes de información sobre sus clientes y productos bancarios, debido a esta ardua tarea en seleccionar siempre a los mejores clientes se han planteado modelos cada vez más complejos para este tipo de tareas.\n",
    "Con el paso del tiempo los modelos se vuelven obsoletos y las empresas llegan a presentar ciertas complicaciones para seguir llevando a cabos sus tareas diarias, es por eso que con frecuencia se actualizan estos modelos, la mejora más rapida a estos problemas es pormedio de los ajustes a sus variables objetivos. Con esto las empresas generan tiempo para poder realizar pruebas piloto y al mismo tiempo realizan una mejora al modelo.\n",
    "</p>\n",
    "\n",
    "\n",
    "<font color='black'><h4>Trabajos Previos</h4></font>\n",
    "\n",
    "<p style='text-align: justify;'>\n",
    "Al día de hoy y por tratarse de un tema con demasiada relevancia en el sector Financiero, que además es una obligación regulatoria en diversos países para quienes realizan prestamos y ofrecen créditos personas físicas o morales, y como apoyo a estas instituciones existen diversas investigaciones, regulaciones y  trabajos referentes a la elaboración de modelos de riesgo de crédito o mas conocido como \"credit risk\", en México por ejemplo el mismo Buró de crédito cuenta con un modelo predictivo de incumplimiento en sus obligaciones de pago (impago), que considera la información de los clientes dentro de todo el sistema Financiero Mexicano con el cual genera un score de crédito el cuál indica si la persona cumple o no cumple con sus pagos, al mismo tiempo existe una metodología que se ocupa comunmente tanto en regulaciones internaciones como nacionales; El modelo al que comúnmente se le atribuye esta tarea es la \"regresión logística\" debido a su capacidad predictiva y la sencilles del modelo. \n",
    "</p>\n",
    "<p style='text-align: justify;'>\n",
    "Las razones son que es un algoritmo que logra capturar el patrón y aporta estabilidad entes los cambios de comportamiento y adicionalmente permite explicar los resultados de una manera sencilla a las personas que no tienen conocimiento del tema.\n",
    "    \n",
    "Por otro lado en distintos trabajos se proponen Algoritmos como el Randomforest, XGBoosting, Redes Neuronales o distintos tipos de Árboles de Decisión, que son algoritmos que tienen un costo computacional alto pero también un nivel predictivo mayor que ele de la regresión Logística.\n",
    "</p>\n",
    "<p style='text-align: justify;'>\n",
    "Desde nuestra perspectiva consideramos que para este proyecto es posible probar distintos algoritmos y evaluar sus desempeños. Por otro lado es importante mencionar que se deberán tomar en cuenta los diversos aspectos de negocio en este giro así como regulatorios. Consideramos que el mayor esfuerzo estará en la preparación de los datos de entrada y las variables propuestas.\n",
    "Lo que se espera de este trabajo es poner en practica todos los conocimientos adquiridos hasta el momento para la preparación y limpieza de los datos, la modelación en conjunto con distintas propuestas de algoritmos para finalmente dar una conclusión de porque creemos que el modelo propuesta cumple con el objetivo de la competencia o en su caso por qué no lo cumple.\n",
    "\n",
    "</p>\n",
    "\n",
    "<font color='black'><h4>Planteamiento del problema</h4></font>\n",
    "<p style='text-align: justify;'>\n",
    "El problema que se plantea en esta competición es acerca del incumplimiento de pago en temas crediticios. Se pide obtener un modelo predictivo (supervisado) cuya variable objetivo será el evento de si un cliente incumplió en su pago o no incumplió. Básicamente se trata de un modelo de riesgo de crédito cuya finalidad es dar certidumbre de que el cliente va a devolver lo que se le preste más ciertos intereses antes de otorgarle un crédito. Al día de hoy la empresa American Express ya cuenta con un modelo predictivo de impago con cierto Recall y Precisión en su día a día, sin embargo lo que pretende esta competencia es obtener un modelo con mejor desempeño (mayor Recall y mayor Precisión).\n",
    "    \n",
    "La relevancia que tiene este proyecto a nuestra línea de trabajo es que nos permitirá probar distintos algoritmos supervisados para obtener un mejor modelo, así como poder proponer distintas variables de entrada al modelo que desde un sentido de negoción puedan aportar mayor potencia a la predicción. Por otro lado nos ayudará a ganar experiencia en temas de riesgo de Crédito lo cual es un campo muy amplio laboralmente hablando dentro del sistema Financiero.\n",
    "</p>\n",
    "\n",
    "<p style='text-align: justify;'>\n",
    "Ya mencionado anteriormente que las instituciones financieras constantemente buscan mejorar y seleccionar a las personas que acuden a sus instalaciones para solicitar creditos de nomina, tarjetas, créditos de PYMES etc.\n",
    "\n",
    "Si bien existe gran variedad de trabajos de investigación sobre la probabilidad de impago,en un informe financiero elaborado por @BBVA 2010, muestra como las Tasas de incumplimiento para distinta segmentación de las herramientas en función de la antigüedad, se ven menos afectadas ya que estas están separadas por  3 grandes grupos:\n",
    "    \n",
    "    1.no cliente\n",
    "    \n",
    "    2.Cliente no vinculado\n",
    "    \n",
    "    3.cliente vinculado\n",
    "    \n",
    "Al segmentar de esta manera diversifica las pérdidas y puede identificar claramente como las tasas de inclumplimiento son más bajas en las carteras de las personas o empresas que son clientes, por el contrario para las personas que no tienen ningún vinculo con la institución tienen en promedio 10% más de incumplir.\n",
    "\n",
    "Una vez analizado esto nos da una idea de como poder solucionar este problema, sin emebargo al contar con tanto detalle dentro de la información nos concentraremos únicamente en las varibles de gasto pago y variables de morosidad, y por medio de clusters segmentar para ver que variables son las más significativas para el modelo y posteriormente por medio del modelo de regresión logística identificar las variables que son significativas para la predicción del modelo de Default.\n",
    "    \n",
    "*Nota: se esta trabajando con una muestra del 20% de los datos, ya que la información tiene un peso de 50 gb y es imposible manejarla dentro de una computadora con instancia local.     \n",
    "</p>\n",
    "\n",
    "\n",
    "<font color='black'><h4>Descripción de variables del conjunto de datos</h4></font>\n",
    "\n",
    "El conjunto de datos contiene características de perfil agregadas para cada cliente en cada fecha de estado de cuenta. Las funciones se anonimizan y normalizan, y se clasifican en las siguientes categorías generales:\n",
    "\n",
    "D_* = Variables de morosidad\n",
    "\n",
    "S_* = Variables de gasto\n",
    "\n",
    "P_* = Variables de pago\n",
    "\n",
    "B_* = Variables de balance\n",
    "\n",
    "R_* = Variables de riesgo\n",
    "\n",
    "\n",
    "Nota: Todas la variables son de tipo intervalo (continuas)"
   ]
  },
  {
   "cell_type": "markdown",
   "metadata": {},
   "source": [
    "<font color='black'><h1>Desarrollo</h1></font>\n",
    "\n",
    "<p style='text-align: justify;'>\n",
    "Solución propuesta para el problema planteado en este proyecto.\n",
    "\n",
    "<font color='purple'><h3>* Análisis Exploratorio de Datos</h3></font>\n",
    "    \n",
    "Dentro de esta etapa se incluye lo siguiente:\n",
    "<ol>\n",
    "<li>Se explora y se gráfica la variable target para ver la distribución de los casos de impago.</li>\n",
    "<li>Por medio de un análisis descriptivo de las variables observamos casos nulos, valores atípicos, media, desviación estándar, entre otros, se eliminan los campos con más del 70% con valores nulos.</li>\n",
    "<li>Por medio de un análisis de correlación se busca eliminar la multicolinealidad entre las variables explicativas y también la relación con nuestra variable objetivo de cada uno de los grupos de variables, por ejemplo, morosidad, balance, étc.</li>\n",
    "<li>Por medio de un análisis de clustering entre variables y manipulación un tanto manual por parte del analista se busca eliminar la redundancia entre variables y dejar aquellas más importantes y que explican mejor la variable objetivo.</li>\n",
    "</ol>\n",
    "\n",
    "<font color='purple'><h3>* Modelación </h3></font>\n",
    "<ol>\n",
    "<li>Acercamiento 1: Modelación con variables estandarizadas e imputación de valores nulos con la mediana.</li>\n",
    "</ol>\n",
    "\n",
    "<ul><li>Modelo 1:</li> </ul>\n",
    "\n",
    "    En esta parte se intentará obtener un primer resultado a través de una regresión logística, primero se estandarizarán las variables, se propone una proporción de 80% - 20% para los conjuntos de datos entrenamiento y prueba, se ejecuta el ajuste y validación del modelo y se obtiene el desempeño del modelo a través de la matriz de confusión y las métricas del ajuste precision, recall, f1 y el accuracy.\n",
    "\n",
    "<ul><li>Modelo 2:</li> </ul>\n",
    "\n",
    "    En esta parte se probará un segundo resultado solo con las variables estandarizadas a través de un árbol de decisión, tambiém se obtendrán los valores de desempeño del modelo a través de matríz y métricas.\n",
    "\n",
    "<ul><li>Modelo 3:</li> </ul>\n",
    " \n",
    "    En esta parte se probará un tercer resultado a través de un bosques aleatorios(Random Forest) con 100 estimadores, se entrenará y validará el modelo obteniendo nuevamente matriz de confusión y métricas de desempeño.\n",
    "\n",
    "\n",
    "<ol>\n",
    "<li>Acercamiento 2: Aplicando ingeniería de variables.</li>\n",
    "</ol>\n",
    "\n",
    "Ahora se eliminaran los registros con valores pérdidos a diferencia del primer approah en donde se decidió imputar valores con la mediana.\n",
    "Se aplica ingeniería de variables a través de Información Mutua cuya ventaja es que puede detectar cualquier tipo de relación, mientras que la correlación solo detecta relaciones lineales.\n",
    "\n",
    "<ul><li>Modelo 1:</li> </ul>\n",
    "\n",
    "    Para poder realizar una comparación entre acercamientos y para obtener un mejor desempeño el conjunto de datos se ajustará y validará con una distribución de 80% - 20%  a través de una regresión logística y se obtendrám las métricas de desempeño.\n",
    "\n",
    "<ul><li>Modelo 2:</li> </ul>\n",
    "\n",
    "    Nuevamente con una conjunto de datos de entrenamiento del 80% y prueba de 20% se ajustará y validará un árbol de decisión y se obtendrá el desempeño del modelo.\n",
    "\n",
    "<ul><li>Modelo 3:</li> </ul>\n",
    "\n",
    "    Se ajustará y validará con la tercara opción propuesta, se ajustará y validará un modelo de bosques aleatorios con 100 estimadores.\n",
    "\n",
    "Al final en las conclusiones se hará una comparativa con los resultados obtenidos con los 2 acercamientos aplicado a 3 modelos cada uno.\n"
   ]
  },
  {
   "cell_type": "markdown",
   "metadata": {},
   "source": [
    "<h3><font color='black'><span style='background :white' >** Librerías a utilizar **</span></font></h3>\n",
    "Dentro de este bloque exportamos las librerías que vamos a utilizar a lo largo de este trabajo"
   ]
  },
  {
   "cell_type": "code",
   "execution_count": 1,
   "metadata": {},
   "outputs": [],
   "source": [
    "#Importamos los paquetes que vamos a utilizar\n",
    "\n",
    "# lectura y manipulación de archivos \n",
    "import json as js\n",
    "import pandas as pd\n",
    "import io\n",
    "import numpy as np\n",
    "\n",
    "# gráficas\n",
    "import matplotlib.pyplot as plt\n",
    "import seaborn as sns\n",
    "\n",
    "# herramientas estadísitcas \n",
    "import random as rd\n",
    "import math as mt\n",
    "from time import time\n",
    "from statistics import mean"
   ]
  },
  {
   "cell_type": "markdown",
   "metadata": {},
   "source": [
    "<h3><font color='black'><span style='background :white' >** Importar el conjunto de datos **</span></font></h3>\n",
    "En este bloque realizamos la lectura de los Datos desde un formato .pkl para obtimizar el tamaño."
   ]
  },
  {
   "cell_type": "code",
   "execution_count": 3,
   "metadata": {},
   "outputs": [
    {
     "data": {
      "text/html": [
       "<div>\n",
       "<style scoped>\n",
       "    .dataframe tbody tr th:only-of-type {\n",
       "        vertical-align: middle;\n",
       "    }\n",
       "\n",
       "    .dataframe tbody tr th {\n",
       "        vertical-align: top;\n",
       "    }\n",
       "\n",
       "    .dataframe thead th {\n",
       "        text-align: right;\n",
       "    }\n",
       "</style>\n",
       "<table border=\"1\" class=\"dataframe\">\n",
       "  <thead>\n",
       "    <tr style=\"text-align: right;\">\n",
       "      <th></th>\n",
       "      <th>customer_ID</th>\n",
       "      <th>S_2</th>\n",
       "      <th>P_2</th>\n",
       "      <th>D_39</th>\n",
       "      <th>B_1</th>\n",
       "      <th>B_2</th>\n",
       "      <th>R_1</th>\n",
       "      <th>S_3</th>\n",
       "      <th>D_41</th>\n",
       "      <th>B_3</th>\n",
       "      <th>...</th>\n",
       "      <th>D_137</th>\n",
       "      <th>D_138</th>\n",
       "      <th>D_139</th>\n",
       "      <th>D_140</th>\n",
       "      <th>D_141</th>\n",
       "      <th>D_142</th>\n",
       "      <th>D_143</th>\n",
       "      <th>D_144</th>\n",
       "      <th>D_145</th>\n",
       "      <th>target</th>\n",
       "    </tr>\n",
       "  </thead>\n",
       "  <tbody>\n",
       "    <tr>\n",
       "      <th>5230464</th>\n",
       "      <td>f1e881682c6eac031984d20d3620b30514dcdf3ec9ce0d...</td>\n",
       "      <td>2018-01-12</td>\n",
       "      <td>0.875387</td>\n",
       "      <td>0.000703</td>\n",
       "      <td>0.010017</td>\n",
       "      <td>0.812351</td>\n",
       "      <td>0.005092</td>\n",
       "      <td>NaN</td>\n",
       "      <td>0.008048</td>\n",
       "      <td>0.008104</td>\n",
       "      <td>...</td>\n",
       "      <td>NaN</td>\n",
       "      <td>NaN</td>\n",
       "      <td>0.007267</td>\n",
       "      <td>0.005693</td>\n",
       "      <td>0.000360</td>\n",
       "      <td>NaN</td>\n",
       "      <td>0.002976</td>\n",
       "      <td>0.001934</td>\n",
       "      <td>0.008223</td>\n",
       "      <td>0</td>\n",
       "    </tr>\n",
       "    <tr>\n",
       "      <th>35131</th>\n",
       "      <td>01a4df870c9a606a9463f6daa20fcfe6e9fd1d089a3369...</td>\n",
       "      <td>2017-12-08</td>\n",
       "      <td>0.825674</td>\n",
       "      <td>0.008442</td>\n",
       "      <td>0.048399</td>\n",
       "      <td>0.813680</td>\n",
       "      <td>0.001591</td>\n",
       "      <td>0.157129</td>\n",
       "      <td>0.000891</td>\n",
       "      <td>0.006268</td>\n",
       "      <td>...</td>\n",
       "      <td>NaN</td>\n",
       "      <td>NaN</td>\n",
       "      <td>0.003818</td>\n",
       "      <td>0.005072</td>\n",
       "      <td>0.002615</td>\n",
       "      <td>NaN</td>\n",
       "      <td>0.001691</td>\n",
       "      <td>0.009793</td>\n",
       "      <td>0.005945</td>\n",
       "      <td>0</td>\n",
       "    </tr>\n",
       "    <tr>\n",
       "      <th>306853</th>\n",
       "      <td>0e592593c5c1cb6c02bb96928533c56885fffdfb431514...</td>\n",
       "      <td>2017-11-27</td>\n",
       "      <td>0.668637</td>\n",
       "      <td>0.006712</td>\n",
       "      <td>0.011058</td>\n",
       "      <td>1.006478</td>\n",
       "      <td>0.009358</td>\n",
       "      <td>0.306038</td>\n",
       "      <td>0.007368</td>\n",
       "      <td>0.003509</td>\n",
       "      <td>...</td>\n",
       "      <td>NaN</td>\n",
       "      <td>NaN</td>\n",
       "      <td>0.006866</td>\n",
       "      <td>0.007799</td>\n",
       "      <td>0.001946</td>\n",
       "      <td>NaN</td>\n",
       "      <td>0.002564</td>\n",
       "      <td>0.001414</td>\n",
       "      <td>0.000380</td>\n",
       "      <td>1</td>\n",
       "    </tr>\n",
       "    <tr>\n",
       "      <th>671170</th>\n",
       "      <td>1f37fd3ba4c0996f965bf3ffe951a0fcc1fd0f822c5a96...</td>\n",
       "      <td>2017-06-19</td>\n",
       "      <td>0.295480</td>\n",
       "      <td>0.004250</td>\n",
       "      <td>0.221267</td>\n",
       "      <td>0.013503</td>\n",
       "      <td>0.006126</td>\n",
       "      <td>0.208965</td>\n",
       "      <td>0.008111</td>\n",
       "      <td>0.389246</td>\n",
       "      <td>...</td>\n",
       "      <td>NaN</td>\n",
       "      <td>NaN</td>\n",
       "      <td>0.004558</td>\n",
       "      <td>0.001099</td>\n",
       "      <td>0.005935</td>\n",
       "      <td>NaN</td>\n",
       "      <td>0.006452</td>\n",
       "      <td>0.003565</td>\n",
       "      <td>0.007123</td>\n",
       "      <td>1</td>\n",
       "    </tr>\n",
       "    <tr>\n",
       "      <th>4395008</th>\n",
       "      <td>cb1b3179f5f237ffa5fe647f169b38f05072d8580aa7e9...</td>\n",
       "      <td>2017-10-05</td>\n",
       "      <td>0.215187</td>\n",
       "      <td>0.242586</td>\n",
       "      <td>0.060069</td>\n",
       "      <td>0.668119</td>\n",
       "      <td>0.005352</td>\n",
       "      <td>0.673660</td>\n",
       "      <td>0.411929</td>\n",
       "      <td>0.065734</td>\n",
       "      <td>...</td>\n",
       "      <td>NaN</td>\n",
       "      <td>NaN</td>\n",
       "      <td>0.000091</td>\n",
       "      <td>0.003316</td>\n",
       "      <td>0.005769</td>\n",
       "      <td>NaN</td>\n",
       "      <td>0.001426</td>\n",
       "      <td>0.004825</td>\n",
       "      <td>0.007764</td>\n",
       "      <td>0</td>\n",
       "    </tr>\n",
       "    <tr>\n",
       "      <th>...</th>\n",
       "      <td>...</td>\n",
       "      <td>...</td>\n",
       "      <td>...</td>\n",
       "      <td>...</td>\n",
       "      <td>...</td>\n",
       "      <td>...</td>\n",
       "      <td>...</td>\n",
       "      <td>...</td>\n",
       "      <td>...</td>\n",
       "      <td>...</td>\n",
       "      <td>...</td>\n",
       "      <td>...</td>\n",
       "      <td>...</td>\n",
       "      <td>...</td>\n",
       "      <td>...</td>\n",
       "      <td>...</td>\n",
       "      <td>...</td>\n",
       "      <td>...</td>\n",
       "      <td>...</td>\n",
       "      <td>...</td>\n",
       "      <td>...</td>\n",
       "    </tr>\n",
       "    <tr>\n",
       "      <th>5280720</th>\n",
       "      <td>f44e58840e0c3e4db14ec219c3d122156e76564ffbfde4...</td>\n",
       "      <td>2018-03-14</td>\n",
       "      <td>0.941024</td>\n",
       "      <td>0.179749</td>\n",
       "      <td>0.036868</td>\n",
       "      <td>1.000365</td>\n",
       "      <td>0.005260</td>\n",
       "      <td>0.103488</td>\n",
       "      <td>0.007442</td>\n",
       "      <td>0.009712</td>\n",
       "      <td>...</td>\n",
       "      <td>NaN</td>\n",
       "      <td>NaN</td>\n",
       "      <td>0.002007</td>\n",
       "      <td>0.007335</td>\n",
       "      <td>0.007334</td>\n",
       "      <td>NaN</td>\n",
       "      <td>0.006903</td>\n",
       "      <td>0.006058</td>\n",
       "      <td>0.002161</td>\n",
       "      <td>0</td>\n",
       "    </tr>\n",
       "    <tr>\n",
       "      <th>795121</th>\n",
       "      <td>24dc0b7083c1d4dbfabb25d04c4a0f87bc6db4c712f38a...</td>\n",
       "      <td>2018-03-06</td>\n",
       "      <td>0.958159</td>\n",
       "      <td>0.000013</td>\n",
       "      <td>0.013432</td>\n",
       "      <td>1.001340</td>\n",
       "      <td>0.009254</td>\n",
       "      <td>0.113118</td>\n",
       "      <td>0.007888</td>\n",
       "      <td>0.005878</td>\n",
       "      <td>...</td>\n",
       "      <td>NaN</td>\n",
       "      <td>NaN</td>\n",
       "      <td>0.005449</td>\n",
       "      <td>0.009665</td>\n",
       "      <td>0.007842</td>\n",
       "      <td>NaN</td>\n",
       "      <td>0.003761</td>\n",
       "      <td>0.000714</td>\n",
       "      <td>0.008032</td>\n",
       "      <td>0</td>\n",
       "    </tr>\n",
       "    <tr>\n",
       "      <th>3620268</th>\n",
       "      <td>a73e67ceea453acf0bcb42b46945ce47042be704a9326f...</td>\n",
       "      <td>2018-01-19</td>\n",
       "      <td>0.297357</td>\n",
       "      <td>0.035479</td>\n",
       "      <td>0.873243</td>\n",
       "      <td>0.818154</td>\n",
       "      <td>0.000662</td>\n",
       "      <td>0.153680</td>\n",
       "      <td>0.004677</td>\n",
       "      <td>0.010568</td>\n",
       "      <td>...</td>\n",
       "      <td>NaN</td>\n",
       "      <td>NaN</td>\n",
       "      <td>0.001459</td>\n",
       "      <td>0.007947</td>\n",
       "      <td>0.004197</td>\n",
       "      <td>NaN</td>\n",
       "      <td>0.008726</td>\n",
       "      <td>0.000236</td>\n",
       "      <td>0.003961</td>\n",
       "      <td>1</td>\n",
       "    </tr>\n",
       "    <tr>\n",
       "      <th>2154673</th>\n",
       "      <td>638905c4d5fd5368d0140c32ce66c60bbd78cea311e024...</td>\n",
       "      <td>2018-03-08</td>\n",
       "      <td>0.773871</td>\n",
       "      <td>0.008020</td>\n",
       "      <td>0.007429</td>\n",
       "      <td>0.812456</td>\n",
       "      <td>0.001747</td>\n",
       "      <td>NaN</td>\n",
       "      <td>0.007628</td>\n",
       "      <td>0.003615</td>\n",
       "      <td>...</td>\n",
       "      <td>NaN</td>\n",
       "      <td>NaN</td>\n",
       "      <td>0.006444</td>\n",
       "      <td>0.001845</td>\n",
       "      <td>0.000628</td>\n",
       "      <td>NaN</td>\n",
       "      <td>0.002464</td>\n",
       "      <td>0.001387</td>\n",
       "      <td>0.002352</td>\n",
       "      <td>0</td>\n",
       "    </tr>\n",
       "    <tr>\n",
       "      <th>4102465</th>\n",
       "      <td>bda308aba0a7ffface7780ee366508620c05c9ce896569...</td>\n",
       "      <td>2017-10-24</td>\n",
       "      <td>0.508677</td>\n",
       "      <td>0.004288</td>\n",
       "      <td>0.105060</td>\n",
       "      <td>0.815857</td>\n",
       "      <td>0.007707</td>\n",
       "      <td>0.171486</td>\n",
       "      <td>0.007221</td>\n",
       "      <td>0.008160</td>\n",
       "      <td>...</td>\n",
       "      <td>NaN</td>\n",
       "      <td>NaN</td>\n",
       "      <td>NaN</td>\n",
       "      <td>NaN</td>\n",
       "      <td>NaN</td>\n",
       "      <td>NaN</td>\n",
       "      <td>NaN</td>\n",
       "      <td>NaN</td>\n",
       "      <td>NaN</td>\n",
       "      <td>0</td>\n",
       "    </tr>\n",
       "  </tbody>\n",
       "</table>\n",
       "<p>442542 rows × 191 columns</p>\n",
       "</div>"
      ],
      "text/plain": [
       "                                               customer_ID         S_2  \\\n",
       "5230464  f1e881682c6eac031984d20d3620b30514dcdf3ec9ce0d...  2018-01-12   \n",
       "35131    01a4df870c9a606a9463f6daa20fcfe6e9fd1d089a3369...  2017-12-08   \n",
       "306853   0e592593c5c1cb6c02bb96928533c56885fffdfb431514...  2017-11-27   \n",
       "671170   1f37fd3ba4c0996f965bf3ffe951a0fcc1fd0f822c5a96...  2017-06-19   \n",
       "4395008  cb1b3179f5f237ffa5fe647f169b38f05072d8580aa7e9...  2017-10-05   \n",
       "...                                                    ...         ...   \n",
       "5280720  f44e58840e0c3e4db14ec219c3d122156e76564ffbfde4...  2018-03-14   \n",
       "795121   24dc0b7083c1d4dbfabb25d04c4a0f87bc6db4c712f38a...  2018-03-06   \n",
       "3620268  a73e67ceea453acf0bcb42b46945ce47042be704a9326f...  2018-01-19   \n",
       "2154673  638905c4d5fd5368d0140c32ce66c60bbd78cea311e024...  2018-03-08   \n",
       "4102465  bda308aba0a7ffface7780ee366508620c05c9ce896569...  2017-10-24   \n",
       "\n",
       "              P_2      D_39       B_1       B_2       R_1       S_3      D_41  \\\n",
       "5230464  0.875387  0.000703  0.010017  0.812351  0.005092       NaN  0.008048   \n",
       "35131    0.825674  0.008442  0.048399  0.813680  0.001591  0.157129  0.000891   \n",
       "306853   0.668637  0.006712  0.011058  1.006478  0.009358  0.306038  0.007368   \n",
       "671170   0.295480  0.004250  0.221267  0.013503  0.006126  0.208965  0.008111   \n",
       "4395008  0.215187  0.242586  0.060069  0.668119  0.005352  0.673660  0.411929   \n",
       "...           ...       ...       ...       ...       ...       ...       ...   \n",
       "5280720  0.941024  0.179749  0.036868  1.000365  0.005260  0.103488  0.007442   \n",
       "795121   0.958159  0.000013  0.013432  1.001340  0.009254  0.113118  0.007888   \n",
       "3620268  0.297357  0.035479  0.873243  0.818154  0.000662  0.153680  0.004677   \n",
       "2154673  0.773871  0.008020  0.007429  0.812456  0.001747       NaN  0.007628   \n",
       "4102465  0.508677  0.004288  0.105060  0.815857  0.007707  0.171486  0.007221   \n",
       "\n",
       "              B_3  ...  D_137  D_138     D_139     D_140     D_141  D_142  \\\n",
       "5230464  0.008104  ...    NaN    NaN  0.007267  0.005693  0.000360    NaN   \n",
       "35131    0.006268  ...    NaN    NaN  0.003818  0.005072  0.002615    NaN   \n",
       "306853   0.003509  ...    NaN    NaN  0.006866  0.007799  0.001946    NaN   \n",
       "671170   0.389246  ...    NaN    NaN  0.004558  0.001099  0.005935    NaN   \n",
       "4395008  0.065734  ...    NaN    NaN  0.000091  0.003316  0.005769    NaN   \n",
       "...           ...  ...    ...    ...       ...       ...       ...    ...   \n",
       "5280720  0.009712  ...    NaN    NaN  0.002007  0.007335  0.007334    NaN   \n",
       "795121   0.005878  ...    NaN    NaN  0.005449  0.009665  0.007842    NaN   \n",
       "3620268  0.010568  ...    NaN    NaN  0.001459  0.007947  0.004197    NaN   \n",
       "2154673  0.003615  ...    NaN    NaN  0.006444  0.001845  0.000628    NaN   \n",
       "4102465  0.008160  ...    NaN    NaN       NaN       NaN       NaN    NaN   \n",
       "\n",
       "            D_143     D_144     D_145  target  \n",
       "5230464  0.002976  0.001934  0.008223       0  \n",
       "35131    0.001691  0.009793  0.005945       0  \n",
       "306853   0.002564  0.001414  0.000380       1  \n",
       "671170   0.006452  0.003565  0.007123       1  \n",
       "4395008  0.001426  0.004825  0.007764       0  \n",
       "...           ...       ...       ...     ...  \n",
       "5280720  0.006903  0.006058  0.002161       0  \n",
       "795121   0.003761  0.000714  0.008032       0  \n",
       "3620268  0.008726  0.000236  0.003961       1  \n",
       "2154673  0.002464  0.001387  0.002352       0  \n",
       "4102465       NaN       NaN       NaN       0  \n",
       "\n",
       "[442542 rows x 191 columns]"
      ]
     },
     "execution_count": 3,
     "metadata": {},
     "output_type": "execute_result"
    }
   ],
   "source": [
    "#Cargamos los datos\n",
    "import pickle as pk\n",
    "df_orig=pd.read_pickle('df_sample_amex.pkl')\n",
    "df=pd.read_pickle('df_sample_amex.pkl')\n",
    "# Visualizamos los datos\n",
    "df"
   ]
  },
  {
   "cell_type": "markdown",
   "metadata": {},
   "source": [
    "<h3><font color='black'><span style='background :white' >** Análisis exploratorio de datos **</span></font></h3>\n",
    "\n",
    "Dentro de esta sección vamos a llevar a cabo el análisis exploratorio de datos, este consiste en realizar exploraciones visuales de las variables, los tipos de dato que tienen, estadísticas descripivas, indicadores de tendencia central y de disperción. De igual manera se analizan los valores perdidos, se realiza la imputaciónde datos, se realiza un análisis de correlación de las variables de entrada contra la variable objetivo y finalmente se analiza la correlación del total de las variables sin la target con el fin de realizar una reducción de la dimensionalidad por medio de un clustering de variables.\n"
   ]
  },
  {
   "cell_type": "code",
   "execution_count": 4,
   "metadata": {},
   "outputs": [
    {
     "data": {
      "text/plain": [
       "<AxesSubplot:xlabel='target', ylabel='count'>"
      ]
     },
     "execution_count": 4,
     "metadata": {},
     "output_type": "execute_result"
    },
    {
     "data": {
      "image/png": "[encoded data removed]",
      "text/plain": [
       "<Figure size 432x288 with 1 Axes>"
      ]
     },
     "metadata": {
      "needs_background": "light"
     },
     "output_type": "display_data"
    }
   ],
   "source": [
    "#Visualizamos la distribución de la Target por cada nivel\n",
    "import seaborn as sns\n",
    "sns.countplot(x = 'target',data = df )"
   ]
  },
  {
   "cell_type": "markdown",
   "metadata": {},
   "source": [
    "## Comentario\n",
    "Se aprecia la siguiente proporción en la variable objetivo:\n",
    "\n",
    "74%--> 0\n",
    "\n",
    "26%--> 1\n",
    "\n",
    "En un total de 442,542 con lo que se concluye que se puede modelar la regularidad estadística del patrón de 1's (Clientes que caen en impago)"
   ]
  },
  {
   "cell_type": "code",
   "execution_count": 5,
   "metadata": {},
   "outputs": [
    {
     "data": {
      "text/plain": [
       "Index(['customer_ID', 'S_2', 'P_2', 'D_39', 'B_1', 'B_2', 'R_1', 'S_3', 'D_41',\n",
       "       'B_3',\n",
       "       ...\n",
       "       'D_137', 'D_138', 'D_139', 'D_140', 'D_141', 'D_142', 'D_143', 'D_144',\n",
       "       'D_145', 'target'],\n",
       "      dtype='object', length=191)"
      ]
     },
     "execution_count": 5,
     "metadata": {},
     "output_type": "execute_result"
    }
   ],
   "source": [
    "# Visualizamos las columnas que contiene el dataset\n",
    "df.columns"
   ]
  },
  {
   "cell_type": "code",
   "execution_count": 6,
   "metadata": {},
   "outputs": [
    {
     "data": {
      "text/plain": [
       "customer_ID     object\n",
       "S_2             object\n",
       "P_2            float64\n",
       "D_39           float64\n",
       "B_1            float64\n",
       "                ...   \n",
       "D_142          float64\n",
       "D_143          float64\n",
       "D_144          float64\n",
       "D_145          float64\n",
       "target           int64\n",
       "Length: 191, dtype: object"
      ]
     },
     "execution_count": 6,
     "metadata": {},
     "output_type": "execute_result"
    }
   ],
   "source": [
    "# Visualizamos los tipos de datos de las variables.\n",
    "df.dtypes"
   ]
  },
  {
   "cell_type": "markdown",
   "metadata": {},
   "source": [
    "<h3><font color='black'><span style='background :white' >* Análisis Descriptivo *</span></font></h3>\n",
    "Para poder entender de que manera están estrucutrados los datos analizaremos cada una de las variables por medio de estadística descriptiva"
   ]
  },
  {
   "cell_type": "code",
   "execution_count": 7,
   "metadata": {},
   "outputs": [
    {
     "data": {
      "text/html": [
       "<div>\n",
       "<style scoped>\n",
       "    .dataframe tbody tr th:only-of-type {\n",
       "        vertical-align: middle;\n",
       "    }\n",
       "\n",
       "    .dataframe tbody tr th {\n",
       "        vertical-align: top;\n",
       "    }\n",
       "\n",
       "    .dataframe thead th {\n",
       "        text-align: right;\n",
       "    }\n",
       "</style>\n",
       "<table border=\"1\" class=\"dataframe\">\n",
       "  <thead>\n",
       "    <tr style=\"text-align: right;\">\n",
       "      <th></th>\n",
       "      <th>count</th>\n",
       "      <th>mean</th>\n",
       "      <th>std</th>\n",
       "      <th>min</th>\n",
       "      <th>25%</th>\n",
       "      <th>50%</th>\n",
       "      <th>75%</th>\n",
       "      <th>max</th>\n",
       "    </tr>\n",
       "  </thead>\n",
       "  <tbody>\n",
       "    <tr>\n",
       "      <th>P_2</th>\n",
       "      <td>437787.0</td>\n",
       "      <td>0.651225</td>\n",
       "      <td>0.244644</td>\n",
       "      <td>-3.726237e-01</td>\n",
       "      <td>0.473785</td>\n",
       "      <td>0.685655</td>\n",
       "      <td>0.861152</td>\n",
       "      <td>1.010000</td>\n",
       "    </tr>\n",
       "    <tr>\n",
       "      <th>D_39</th>\n",
       "      <td>442542.0</td>\n",
       "      <td>0.152065</td>\n",
       "      <td>0.270830</td>\n",
       "      <td>5.957676e-09</td>\n",
       "      <td>0.004514</td>\n",
       "      <td>0.009005</td>\n",
       "      <td>0.235317</td>\n",
       "      <td>5.362794</td>\n",
       "    </tr>\n",
       "    <tr>\n",
       "      <th>B_1</th>\n",
       "      <td>442542.0</td>\n",
       "      <td>0.125312</td>\n",
       "      <td>0.213382</td>\n",
       "      <td>-5.092473e-01</td>\n",
       "      <td>0.008956</td>\n",
       "      <td>0.032129</td>\n",
       "      <td>0.128480</td>\n",
       "      <td>1.324059</td>\n",
       "    </tr>\n",
       "    <tr>\n",
       "      <th>B_2</th>\n",
       "      <td>442294.0</td>\n",
       "      <td>0.620304</td>\n",
       "      <td>0.400589</td>\n",
       "      <td>4.737755e-07</td>\n",
       "      <td>0.105084</td>\n",
       "      <td>0.814252</td>\n",
       "      <td>1.002250</td>\n",
       "      <td>1.010000</td>\n",
       "    </tr>\n",
       "    <tr>\n",
       "      <th>R_1</th>\n",
       "      <td>442542.0</td>\n",
       "      <td>0.080174</td>\n",
       "      <td>0.227983</td>\n",
       "      <td>7.579088e-08</td>\n",
       "      <td>0.002897</td>\n",
       "      <td>0.005788</td>\n",
       "      <td>0.008686</td>\n",
       "      <td>3.004918</td>\n",
       "    </tr>\n",
       "    <tr>\n",
       "      <th>...</th>\n",
       "      <td>...</td>\n",
       "      <td>...</td>\n",
       "      <td>...</td>\n",
       "      <td>...</td>\n",
       "      <td>...</td>\n",
       "      <td>...</td>\n",
       "      <td>...</td>\n",
       "      <td>...</td>\n",
       "    </tr>\n",
       "    <tr>\n",
       "      <th>D_142</th>\n",
       "      <td>75867.0</td>\n",
       "      <td>0.388836</td>\n",
       "      <td>0.236186</td>\n",
       "      <td>-1.095431e-02</td>\n",
       "      <td>0.197536</td>\n",
       "      <td>0.378413</td>\n",
       "      <td>0.557781</td>\n",
       "      <td>2.217040</td>\n",
       "    </tr>\n",
       "    <tr>\n",
       "      <th>D_143</th>\n",
       "      <td>431569.0</td>\n",
       "      <td>0.180673</td>\n",
       "      <td>0.380557</td>\n",
       "      <td>7.740806e-08</td>\n",
       "      <td>0.003028</td>\n",
       "      <td>0.006066</td>\n",
       "      <td>0.009097</td>\n",
       "      <td>1.010000</td>\n",
       "    </tr>\n",
       "    <tr>\n",
       "      <th>D_144</th>\n",
       "      <td>438261.0</td>\n",
       "      <td>0.051939</td>\n",
       "      <td>0.181504</td>\n",
       "      <td>4.080035e-08</td>\n",
       "      <td>0.002760</td>\n",
       "      <td>0.005501</td>\n",
       "      <td>0.008256</td>\n",
       "      <td>1.343316</td>\n",
       "    </tr>\n",
       "    <tr>\n",
       "      <th>D_145</th>\n",
       "      <td>431569.0</td>\n",
       "      <td>0.063197</td>\n",
       "      <td>0.195072</td>\n",
       "      <td>5.794007e-08</td>\n",
       "      <td>0.003035</td>\n",
       "      <td>0.006069</td>\n",
       "      <td>0.009095</td>\n",
       "      <td>4.736494</td>\n",
       "    </tr>\n",
       "    <tr>\n",
       "      <th>target</th>\n",
       "      <td>442542.0</td>\n",
       "      <td>0.256123</td>\n",
       "      <td>0.436491</td>\n",
       "      <td>0.000000e+00</td>\n",
       "      <td>0.000000</td>\n",
       "      <td>0.000000</td>\n",
       "      <td>1.000000</td>\n",
       "      <td>1.000000</td>\n",
       "    </tr>\n",
       "  </tbody>\n",
       "</table>\n",
       "<p>187 rows × 8 columns</p>\n",
       "</div>"
      ],
      "text/plain": [
       "           count      mean       std           min       25%       50%  \\\n",
       "P_2     437787.0  0.651225  0.244644 -3.726237e-01  0.473785  0.685655   \n",
       "D_39    442542.0  0.152065  0.270830  5.957676e-09  0.004514  0.009005   \n",
       "B_1     442542.0  0.125312  0.213382 -5.092473e-01  0.008956  0.032129   \n",
       "B_2     442294.0  0.620304  0.400589  4.737755e-07  0.105084  0.814252   \n",
       "R_1     442542.0  0.080174  0.227983  7.579088e-08  0.002897  0.005788   \n",
       "...          ...       ...       ...           ...       ...       ...   \n",
       "D_142    75867.0  0.388836  0.236186 -1.095431e-02  0.197536  0.378413   \n",
       "D_143   431569.0  0.180673  0.380557  7.740806e-08  0.003028  0.006066   \n",
       "D_144   438261.0  0.051939  0.181504  4.080035e-08  0.002760  0.005501   \n",
       "D_145   431569.0  0.063197  0.195072  5.794007e-08  0.003035  0.006069   \n",
       "target  442542.0  0.256123  0.436491  0.000000e+00  0.000000  0.000000   \n",
       "\n",
       "             75%       max  \n",
       "P_2     0.861152  1.010000  \n",
       "D_39    0.235317  5.362794  \n",
       "B_1     0.128480  1.324059  \n",
       "B_2     1.002250  1.010000  \n",
       "R_1     0.008686  3.004918  \n",
       "...          ...       ...  \n",
       "D_142   0.557781  2.217040  \n",
       "D_143   0.009097  1.010000  \n",
       "D_144   0.008256  1.343316  \n",
       "D_145   0.009095  4.736494  \n",
       "target  1.000000  1.000000  \n",
       "\n",
       "[187 rows x 8 columns]"
      ]
     },
     "execution_count": 7,
     "metadata": {},
     "output_type": "execute_result"
    }
   ],
   "source": [
    "#Visualizamos los Estadigrafos de la variables\n",
    "df_describe=df.describe().T\n",
    "df_describe"
   ]
  },
  {
   "cell_type": "code",
   "execution_count": 8,
   "metadata": {
    "scrolled": false
   },
   "outputs": [
    {
     "data": {
      "text/plain": [
       "(31, 8)"
      ]
     },
     "execution_count": 8,
     "metadata": {},
     "output_type": "execute_result"
    }
   ],
   "source": [
    "# Observamos que variables tienen una cantidad fuerte de valores perdidos (más del 30% de sus registros, esto es por convención)\n",
    "# 303,169 representa el 70% aproximadamente de los registros, es decir quien tenga menos de esa cantidad de registros \n",
    "# cuenta con más del 30% de valores perdidos en esa variable.\n",
    "df_describe[df_describe['count']<303169].shape"
   ]
  },
  {
   "cell_type": "code",
   "execution_count": 9,
   "metadata": {},
   "outputs": [
    {
     "data": {
      "text/plain": [
       "Index(['D_42', 'D_49', 'D_50', 'D_53', 'D_56', 'S_9', 'B_17', 'D_66', 'D_73',\n",
       "       'D_76', 'D_77', 'R_9', 'D_82', 'B_29', 'D_87', 'D_88', 'D_105', 'D_106',\n",
       "       'R_26', 'D_108', 'D_110', 'D_111', 'B_39', 'B_42', 'D_132', 'D_134',\n",
       "       'D_135', 'D_136', 'D_137', 'D_138', 'D_142'],\n",
       "      dtype='object')"
      ]
     },
     "execution_count": 9,
     "metadata": {},
     "output_type": "execute_result"
    }
   ],
   "source": [
    "# De la celda anterior tenemos 31 variables con más del 30% de valores perdidos, se visualizan dichas variables\n",
    "df_describe[df_describe['count']<303169].T.columns"
   ]
  },
  {
   "cell_type": "code",
   "execution_count": 10,
   "metadata": {},
   "outputs": [
    {
     "data": {
      "text/html": [
       "<div>\n",
       "<style scoped>\n",
       "    .dataframe tbody tr th:only-of-type {\n",
       "        vertical-align: middle;\n",
       "    }\n",
       "\n",
       "    .dataframe tbody tr th {\n",
       "        vertical-align: top;\n",
       "    }\n",
       "\n",
       "    .dataframe thead th {\n",
       "        text-align: right;\n",
       "    }\n",
       "</style>\n",
       "<table border=\"1\" class=\"dataframe\">\n",
       "  <thead>\n",
       "    <tr style=\"text-align: right;\">\n",
       "      <th></th>\n",
       "      <th>count</th>\n",
       "      <th>mean</th>\n",
       "      <th>std</th>\n",
       "      <th>min</th>\n",
       "      <th>25%</th>\n",
       "      <th>50%</th>\n",
       "      <th>75%</th>\n",
       "      <th>max</th>\n",
       "    </tr>\n",
       "  </thead>\n",
       "  <tbody>\n",
       "    <tr>\n",
       "      <th>D_42</th>\n",
       "      <td>76948.0</td>\n",
       "      <td>0.185427</td>\n",
       "      <td>0.240634</td>\n",
       "      <td>-3.099458e-04</td>\n",
       "      <td>0.035656</td>\n",
       "      <td>0.118317</td>\n",
       "      <td>0.247200</td>\n",
       "      <td>4.186470</td>\n",
       "    </tr>\n",
       "    <tr>\n",
       "      <th>D_49</th>\n",
       "      <td>43930.0</td>\n",
       "      <td>0.191369</td>\n",
       "      <td>0.334243</td>\n",
       "      <td>3.886374e-06</td>\n",
       "      <td>0.061275</td>\n",
       "      <td>0.129370</td>\n",
       "      <td>0.245495</td>\n",
       "      <td>40.444644</td>\n",
       "    </tr>\n",
       "    <tr>\n",
       "      <th>D_50</th>\n",
       "      <td>188397.0</td>\n",
       "      <td>0.172939</td>\n",
       "      <td>0.555797</td>\n",
       "      <td>-3.127269e+00</td>\n",
       "      <td>0.064290</td>\n",
       "      <td>0.108622</td>\n",
       "      <td>0.185829</td>\n",
       "      <td>82.245252</td>\n",
       "    </tr>\n",
       "    <tr>\n",
       "      <th>D_53</th>\n",
       "      <td>113105.0</td>\n",
       "      <td>0.076461</td>\n",
       "      <td>0.202608</td>\n",
       "      <td>2.382584e-07</td>\n",
       "      <td>0.006153</td>\n",
       "      <td>0.013512</td>\n",
       "      <td>0.050590</td>\n",
       "      <td>5.465084</td>\n",
       "    </tr>\n",
       "    <tr>\n",
       "      <th>D_56</th>\n",
       "      <td>197911.0</td>\n",
       "      <td>0.203441</td>\n",
       "      <td>0.216372</td>\n",
       "      <td>-1.687785e-02</td>\n",
       "      <td>0.086601</td>\n",
       "      <td>0.148851</td>\n",
       "      <td>0.249321</td>\n",
       "      <td>10.950100</td>\n",
       "    </tr>\n",
       "    <tr>\n",
       "      <th>S_9</th>\n",
       "      <td>205049.0</td>\n",
       "      <td>0.074567</td>\n",
       "      <td>0.197249</td>\n",
       "      <td>1.219565e-06</td>\n",
       "      <td>0.009720</td>\n",
       "      <td>0.019394</td>\n",
       "      <td>0.053169</td>\n",
       "      <td>2.839586</td>\n",
       "    </tr>\n",
       "    <tr>\n",
       "      <th>B_17</th>\n",
       "      <td>187694.0</td>\n",
       "      <td>0.716171</td>\n",
       "      <td>0.386906</td>\n",
       "      <td>1.823382e-07</td>\n",
       "      <td>0.481305</td>\n",
       "      <td>0.933233</td>\n",
       "      <td>1.002399</td>\n",
       "      <td>1.010000</td>\n",
       "    </tr>\n",
       "    <tr>\n",
       "      <th>D_66</th>\n",
       "      <td>48794.0</td>\n",
       "      <td>0.989671</td>\n",
       "      <td>0.101107</td>\n",
       "      <td>0.000000e+00</td>\n",
       "      <td>1.000000</td>\n",
       "      <td>1.000000</td>\n",
       "      <td>1.000000</td>\n",
       "      <td>1.000000</td>\n",
       "    </tr>\n",
       "    <tr>\n",
       "      <th>D_73</th>\n",
       "      <td>5436.0</td>\n",
       "      <td>0.161995</td>\n",
       "      <td>0.223062</td>\n",
       "      <td>-4.043599e-02</td>\n",
       "      <td>0.058689</td>\n",
       "      <td>0.104513</td>\n",
       "      <td>0.175934</td>\n",
       "      <td>3.676230</td>\n",
       "    </tr>\n",
       "    <tr>\n",
       "      <th>D_76</th>\n",
       "      <td>48595.0</td>\n",
       "      <td>0.139674</td>\n",
       "      <td>0.279400</td>\n",
       "      <td>4.135793e-06</td>\n",
       "      <td>0.015380</td>\n",
       "      <td>0.058855</td>\n",
       "      <td>0.166777</td>\n",
       "      <td>15.132615</td>\n",
       "    </tr>\n",
       "    <tr>\n",
       "      <th>D_77</th>\n",
       "      <td>242811.0</td>\n",
       "      <td>0.250375</td>\n",
       "      <td>0.231461</td>\n",
       "      <td>7.095482e-08</td>\n",
       "      <td>0.069168</td>\n",
       "      <td>0.203138</td>\n",
       "      <td>0.366952</td>\n",
       "      <td>10.009876</td>\n",
       "    </tr>\n",
       "    <tr>\n",
       "      <th>R_9</th>\n",
       "      <td>25826.0</td>\n",
       "      <td>0.229530</td>\n",
       "      <td>0.189864</td>\n",
       "      <td>3.121485e-07</td>\n",
       "      <td>0.169100</td>\n",
       "      <td>0.172710</td>\n",
       "      <td>0.176324</td>\n",
       "      <td>1.509810</td>\n",
       "    </tr>\n",
       "    <tr>\n",
       "      <th>D_82</th>\n",
       "      <td>114943.0</td>\n",
       "      <td>0.457305</td>\n",
       "      <td>0.189899</td>\n",
       "      <td>3.400617e-07</td>\n",
       "      <td>0.501509</td>\n",
       "      <td>0.504414</td>\n",
       "      <td>0.507354</td>\n",
       "      <td>3.008526</td>\n",
       "    </tr>\n",
       "    <tr>\n",
       "      <th>B_29</th>\n",
       "      <td>30977.0</td>\n",
       "      <td>0.032056</td>\n",
       "      <td>0.272230</td>\n",
       "      <td>3.091880e-07</td>\n",
       "      <td>0.002546</td>\n",
       "      <td>0.005089</td>\n",
       "      <td>0.007611</td>\n",
       "      <td>9.110773</td>\n",
       "    </tr>\n",
       "    <tr>\n",
       "      <th>D_87</th>\n",
       "      <td>299.0</td>\n",
       "      <td>1.000000</td>\n",
       "      <td>0.000000</td>\n",
       "      <td>1.000000e+00</td>\n",
       "      <td>1.000000</td>\n",
       "      <td>1.000000</td>\n",
       "      <td>1.000000</td>\n",
       "      <td>1.000000</td>\n",
       "    </tr>\n",
       "    <tr>\n",
       "      <th>D_88</th>\n",
       "      <td>486.0</td>\n",
       "      <td>0.178258</td>\n",
       "      <td>0.235302</td>\n",
       "      <td>1.280797e-03</td>\n",
       "      <td>0.024479</td>\n",
       "      <td>0.078019</td>\n",
       "      <td>0.236751</td>\n",
       "      <td>1.477829</td>\n",
       "    </tr>\n",
       "    <tr>\n",
       "      <th>D_105</th>\n",
       "      <td>200065.0</td>\n",
       "      <td>0.368731</td>\n",
       "      <td>0.250632</td>\n",
       "      <td>-2.415681e-02</td>\n",
       "      <td>0.168672</td>\n",
       "      <td>0.332206</td>\n",
       "      <td>0.524443</td>\n",
       "      <td>5.475551</td>\n",
       "    </tr>\n",
       "    <tr>\n",
       "      <th>D_106</th>\n",
       "      <td>43593.0</td>\n",
       "      <td>0.205001</td>\n",
       "      <td>1.383892</td>\n",
       "      <td>1.945481e-07</td>\n",
       "      <td>0.051696</td>\n",
       "      <td>0.136031</td>\n",
       "      <td>0.262200</td>\n",
       "      <td>278.267250</td>\n",
       "    </tr>\n",
       "    <tr>\n",
       "      <th>R_26</th>\n",
       "      <td>49267.0</td>\n",
       "      <td>0.085723</td>\n",
       "      <td>0.243908</td>\n",
       "      <td>1.994525e-07</td>\n",
       "      <td>0.005315</td>\n",
       "      <td>0.037100</td>\n",
       "      <td>0.077308</td>\n",
       "      <td>8.682504</td>\n",
       "    </tr>\n",
       "    <tr>\n",
       "      <th>D_108</th>\n",
       "      <td>2331.0</td>\n",
       "      <td>0.081877</td>\n",
       "      <td>0.315079</td>\n",
       "      <td>6.726847e-06</td>\n",
       "      <td>0.002748</td>\n",
       "      <td>0.005430</td>\n",
       "      <td>0.008180</td>\n",
       "      <td>4.003198</td>\n",
       "    </tr>\n",
       "    <tr>\n",
       "      <th>D_110</th>\n",
       "      <td>2394.0</td>\n",
       "      <td>0.743788</td>\n",
       "      <td>0.306450</td>\n",
       "      <td>-2.329955e-02</td>\n",
       "      <td>0.527155</td>\n",
       "      <td>0.892722</td>\n",
       "      <td>1.003839</td>\n",
       "      <td>1.009979</td>\n",
       "    </tr>\n",
       "    <tr>\n",
       "      <th>D_111</th>\n",
       "      <td>2394.0</td>\n",
       "      <td>0.874180</td>\n",
       "      <td>0.272013</td>\n",
       "      <td>3.091680e-06</td>\n",
       "      <td>1.000540</td>\n",
       "      <td>1.003549</td>\n",
       "      <td>1.006696</td>\n",
       "      <td>1.010000</td>\n",
       "    </tr>\n",
       "    <tr>\n",
       "      <th>B_39</th>\n",
       "      <td>2571.0</td>\n",
       "      <td>0.253961</td>\n",
       "      <td>0.296193</td>\n",
       "      <td>-4.241231e-01</td>\n",
       "      <td>0.057346</td>\n",
       "      <td>0.146453</td>\n",
       "      <td>0.292805</td>\n",
       "      <td>1.053430</td>\n",
       "    </tr>\n",
       "    <tr>\n",
       "      <th>B_42</th>\n",
       "      <td>5548.0</td>\n",
       "      <td>0.108457</td>\n",
       "      <td>0.315585</td>\n",
       "      <td>5.134449e-05</td>\n",
       "      <td>0.007266</td>\n",
       "      <td>0.021330</td>\n",
       "      <td>0.103246</td>\n",
       "      <td>8.976747</td>\n",
       "    </tr>\n",
       "    <tr>\n",
       "      <th>D_132</th>\n",
       "      <td>43695.0</td>\n",
       "      <td>0.207932</td>\n",
       "      <td>0.249124</td>\n",
       "      <td>-1.297553e-02</td>\n",
       "      <td>0.071162</td>\n",
       "      <td>0.157474</td>\n",
       "      <td>0.275496</td>\n",
       "      <td>5.947635</td>\n",
       "    </tr>\n",
       "    <tr>\n",
       "      <th>D_134</th>\n",
       "      <td>15815.0</td>\n",
       "      <td>0.333040</td>\n",
       "      <td>0.298201</td>\n",
       "      <td>-1.120956e-02</td>\n",
       "      <td>0.114240</td>\n",
       "      <td>0.220150</td>\n",
       "      <td>0.464010</td>\n",
       "      <td>1.009990</td>\n",
       "    </tr>\n",
       "    <tr>\n",
       "      <th>D_135</th>\n",
       "      <td>15815.0</td>\n",
       "      <td>0.030824</td>\n",
       "      <td>0.158594</td>\n",
       "      <td>7.917598e-07</td>\n",
       "      <td>0.002605</td>\n",
       "      <td>0.005157</td>\n",
       "      <td>0.007750</td>\n",
       "      <td>1.009996</td>\n",
       "    </tr>\n",
       "    <tr>\n",
       "      <th>D_136</th>\n",
       "      <td>15815.0</td>\n",
       "      <td>0.244268</td>\n",
       "      <td>0.208292</td>\n",
       "      <td>3.217928e-06</td>\n",
       "      <td>0.009575</td>\n",
       "      <td>0.253995</td>\n",
       "      <td>0.258222</td>\n",
       "      <td>1.756223</td>\n",
       "    </tr>\n",
       "    <tr>\n",
       "      <th>D_137</th>\n",
       "      <td>15815.0</td>\n",
       "      <td>0.015245</td>\n",
       "      <td>0.100763</td>\n",
       "      <td>3.478927e-07</td>\n",
       "      <td>0.002529</td>\n",
       "      <td>0.005053</td>\n",
       "      <td>0.007566</td>\n",
       "      <td>1.009868</td>\n",
       "    </tr>\n",
       "    <tr>\n",
       "      <th>D_138</th>\n",
       "      <td>15815.0</td>\n",
       "      <td>0.162310</td>\n",
       "      <td>0.268002</td>\n",
       "      <td>3.527743e-08</td>\n",
       "      <td>0.003532</td>\n",
       "      <td>0.007001</td>\n",
       "      <td>0.501421</td>\n",
       "      <td>2.509801</td>\n",
       "    </tr>\n",
       "    <tr>\n",
       "      <th>D_142</th>\n",
       "      <td>75867.0</td>\n",
       "      <td>0.388836</td>\n",
       "      <td>0.236186</td>\n",
       "      <td>-1.095431e-02</td>\n",
       "      <td>0.197536</td>\n",
       "      <td>0.378413</td>\n",
       "      <td>0.557781</td>\n",
       "      <td>2.217040</td>\n",
       "    </tr>\n",
       "  </tbody>\n",
       "</table>\n",
       "</div>"
      ],
      "text/plain": [
       "          count      mean       std           min       25%       50%  \\\n",
       "D_42    76948.0  0.185427  0.240634 -3.099458e-04  0.035656  0.118317   \n",
       "D_49    43930.0  0.191369  0.334243  3.886374e-06  0.061275  0.129370   \n",
       "D_50   188397.0  0.172939  0.555797 -3.127269e+00  0.064290  0.108622   \n",
       "D_53   113105.0  0.076461  0.202608  2.382584e-07  0.006153  0.013512   \n",
       "D_56   197911.0  0.203441  0.216372 -1.687785e-02  0.086601  0.148851   \n",
       "S_9    205049.0  0.074567  0.197249  1.219565e-06  0.009720  0.019394   \n",
       "B_17   187694.0  0.716171  0.386906  1.823382e-07  0.481305  0.933233   \n",
       "D_66    48794.0  0.989671  0.101107  0.000000e+00  1.000000  1.000000   \n",
       "D_73     5436.0  0.161995  0.223062 -4.043599e-02  0.058689  0.104513   \n",
       "D_76    48595.0  0.139674  0.279400  4.135793e-06  0.015380  0.058855   \n",
       "D_77   242811.0  0.250375  0.231461  7.095482e-08  0.069168  0.203138   \n",
       "R_9     25826.0  0.229530  0.189864  3.121485e-07  0.169100  0.172710   \n",
       "D_82   114943.0  0.457305  0.189899  3.400617e-07  0.501509  0.504414   \n",
       "B_29    30977.0  0.032056  0.272230  3.091880e-07  0.002546  0.005089   \n",
       "D_87      299.0  1.000000  0.000000  1.000000e+00  1.000000  1.000000   \n",
       "D_88      486.0  0.178258  0.235302  1.280797e-03  0.024479  0.078019   \n",
       "D_105  200065.0  0.368731  0.250632 -2.415681e-02  0.168672  0.332206   \n",
       "D_106   43593.0  0.205001  1.383892  1.945481e-07  0.051696  0.136031   \n",
       "R_26    49267.0  0.085723  0.243908  1.994525e-07  0.005315  0.037100   \n",
       "D_108    2331.0  0.081877  0.315079  6.726847e-06  0.002748  0.005430   \n",
       "D_110    2394.0  0.743788  0.306450 -2.329955e-02  0.527155  0.892722   \n",
       "D_111    2394.0  0.874180  0.272013  3.091680e-06  1.000540  1.003549   \n",
       "B_39     2571.0  0.253961  0.296193 -4.241231e-01  0.057346  0.146453   \n",
       "B_42     5548.0  0.108457  0.315585  5.134449e-05  0.007266  0.021330   \n",
       "D_132   43695.0  0.207932  0.249124 -1.297553e-02  0.071162  0.157474   \n",
       "D_134   15815.0  0.333040  0.298201 -1.120956e-02  0.114240  0.220150   \n",
       "D_135   15815.0  0.030824  0.158594  7.917598e-07  0.002605  0.005157   \n",
       "D_136   15815.0  0.244268  0.208292  3.217928e-06  0.009575  0.253995   \n",
       "D_137   15815.0  0.015245  0.100763  3.478927e-07  0.002529  0.005053   \n",
       "D_138   15815.0  0.162310  0.268002  3.527743e-08  0.003532  0.007001   \n",
       "D_142   75867.0  0.388836  0.236186 -1.095431e-02  0.197536  0.378413   \n",
       "\n",
       "            75%         max  \n",
       "D_42   0.247200    4.186470  \n",
       "D_49   0.245495   40.444644  \n",
       "D_50   0.185829   82.245252  \n",
       "D_53   0.050590    5.465084  \n",
       "D_56   0.249321   10.950100  \n",
       "S_9    0.053169    2.839586  \n",
       "B_17   1.002399    1.010000  \n",
       "D_66   1.000000    1.000000  \n",
       "D_73   0.175934    3.676230  \n",
       "D_76   0.166777   15.132615  \n",
       "D_77   0.366952   10.009876  \n",
       "R_9    0.176324    1.509810  \n",
       "D_82   0.507354    3.008526  \n",
       "B_29   0.007611    9.110773  \n",
       "D_87   1.000000    1.000000  \n",
       "D_88   0.236751    1.477829  \n",
       "D_105  0.524443    5.475551  \n",
       "D_106  0.262200  278.267250  \n",
       "R_26   0.077308    8.682504  \n",
       "D_108  0.008180    4.003198  \n",
       "D_110  1.003839    1.009979  \n",
       "D_111  1.006696    1.010000  \n",
       "B_39   0.292805    1.053430  \n",
       "B_42   0.103246    8.976747  \n",
       "D_132  0.275496    5.947635  \n",
       "D_134  0.464010    1.009990  \n",
       "D_135  0.007750    1.009996  \n",
       "D_136  0.258222    1.756223  \n",
       "D_137  0.007566    1.009868  \n",
       "D_138  0.501421    2.509801  \n",
       "D_142  0.557781    2.217040  "
      ]
     },
     "execution_count": 10,
     "metadata": {},
     "output_type": "execute_result"
    }
   ],
   "source": [
    "# Visualizamos los estadigrafos de las variables con más del 30% de valores perdidos\n",
    "df_describe[df_describe['count']<303169]"
   ]
  },
  {
   "cell_type": "markdown",
   "metadata": {},
   "source": [
    "## Observación\n",
    "\n",
    "Como podemos ver, tenemos 31 variables que no cuentan con más del casi 70% de observaciones en el conjunto de datos.\n",
    "\n",
    "Entre ellas encontramos que 24 son variables de morosidad,  2 variables de riesgo, 1 de gasto y 4 de balance (saldo), por lo que se decide eliminarlas del análisis."
   ]
  },
  {
   "cell_type": "code",
   "execution_count": 11,
   "metadata": {
    "scrolled": true
   },
   "outputs": [],
   "source": [
    "#Eliminamos la Fecha de transacción ya que no nos es util, así como las variables con valores perdidos y el ID\n",
    "col_drop = ['S_2','customer_ID','D_42','D_49','D_50','D_53','D_56','S_9','B_17','D_66','D_73','D_76','D_77','R_9','D_82',\n",
    "            'B_29','D_87','D_88','D_105','D_106','R_26','D_108','D_110','D_111','B_39','B_42','D_132','D_134','D_135',\n",
    "            'D_136','D_137','D_138','D_142','D_63','D_64','B_31'] \n",
    "df.drop(col_drop, inplace=True, axis=1)"
   ]
  },
  {
   "cell_type": "code",
   "execution_count": 12,
   "metadata": {},
   "outputs": [
    {
     "data": {
      "text/plain": [
       "2.077886975845267"
      ]
     },
     "execution_count": 12,
     "metadata": {},
     "output_type": "execute_result"
    }
   ],
   "source": [
    "# Obtenemos el % total de valores perdidos que aún quedan en la base\n",
    "df.isnull().values.mean() * 100"
   ]
  },
  {
   "cell_type": "code",
   "execution_count": 13,
   "metadata": {},
   "outputs": [
    {
     "data": {
      "text/plain": [
       "88"
      ]
     },
     "execution_count": 13,
     "metadata": {},
     "output_type": "execute_result"
    }
   ],
   "source": [
    "# Obtenemos las columnas del conjunto de datos que contienen parte del 2% de valores perdidos dentro del conjunto de datos\n",
    "cols_with_missing = [col for col in df.columns\n",
    "                     if df[col].isnull().any()]\n",
    "cols_with_missing.sort()\n",
    "# Imprimimos el número de variables con valores missing\n",
    "len(cols_with_missing)"
   ]
  },
  {
   "cell_type": "code",
   "execution_count": 14,
   "metadata": {},
   "outputs": [
    {
     "data": {
      "text/plain": [
       "(442542, 155)"
      ]
     },
     "execution_count": 14,
     "metadata": {},
     "output_type": "execute_result"
    }
   ],
   "source": [
    "# Visualizamos la dimensión del data frame original\n",
    "df.shape"
   ]
  },
  {
   "cell_type": "markdown",
   "metadata": {},
   "source": [
    "## Observación\n",
    "Visualizamos que son 88 de las 154 (sin la variable fecha) aún cuentan con valores perdidos, sin embargo, vemos que en 41 de ellas es menor al 1%, 2 de ellas sí tienen un porcentaje mayor al 25% de valores perdidos y el resto esta entre 5% y 10%. "
   ]
  },
  {
   "cell_type": "code",
   "execution_count": 15,
   "metadata": {},
   "outputs": [
    {
     "name": "stdout",
     "output_type": "stream",
     "text": [
      "D_43 31.49373392807914\n",
      "D_46 24.182789430155783\n",
      "D_48 13.138413981045865\n",
      "D_61 10.701583126573297\n",
      "D_62 13.882298177348137\n",
      "S_27 25.766367937958428\n",
      "S_3 18.233975532265863\n",
      "S_7 18.233975532265863\n"
     ]
    }
   ],
   "source": [
    "# Imprimimos las variables con más del 10% de valores perdidos y su porcentaje exacto con el siguiente ciclo.\n",
    "for i in range(len(cols_with_missing)):\n",
    "    if (df[cols_with_missing[i]].isnull().values.mean() * 100)>10:\n",
    "        print(cols_with_missing[i],df[cols_with_missing[i]].isnull().values.mean() * 100)"
   ]
  },
  {
   "cell_type": "markdown",
   "metadata": {},
   "source": [
    "<h4><font color='black'><span style='background :white' >Missing Values: Imputación de Valores</span></font></h4>\n",
    "\n",
    "En esta sección vamos a imputal los valores perdidos con un metodo simple, este consiste en asignar la mediana de los datos de la variable a aquellos cuyo valor sea missing.\n",
    "\n",
    "Este proceso es opcional para algunos algoritmos como los árboles de decisión pues estos aceptan los valores perdidos, sin en bargo en nuestro caso utilizaremos más adelante una regresión logística la cual es sencible a los valores perdidos."
   ]
  },
  {
   "cell_type": "code",
   "execution_count": 16,
   "metadata": {},
   "outputs": [],
   "source": [
    "# Relizaremos un proceso de imputación simple para el aún 2% de varoles del total de la base que aun se tiene.\n",
    "from sklearn.impute import SimpleImputer\n",
    "col_names = df.columns\n",
    "imputer = SimpleImputer(missing_values=np.nan, strategy='median', fill_value=None)\n",
    "df = pd.DataFrame(imputer.fit_transform(df))  \n",
    "df.columns = col_names"
   ]
  },
  {
   "cell_type": "markdown",
   "metadata": {},
   "source": [
    "## Análisis de correlación\n",
    "En esta sección continuaremos con el Análisis exploratorio de datos. Antes de comenzar a modelar es importante conocer la relación que existe entre las variables de entrada con la variable objetivo, esto con el fin de ver si existe una relación directa de alguna o varias variables y a que grado con nuestra target. Otra parte de este análisis es conocer la correlación que tienen entre sí las variables de entrada para poder quitar la redeundancia entre ellas a cambio de sacrificar un porcentaje de la varianza explicada."
   ]
  },
  {
   "cell_type": "code",
   "execution_count": 17,
   "metadata": {},
   "outputs": [
    {
     "data": {
      "text/html": [
       "<div>\n",
       "<style scoped>\n",
       "    .dataframe tbody tr th:only-of-type {\n",
       "        vertical-align: middle;\n",
       "    }\n",
       "\n",
       "    .dataframe tbody tr th {\n",
       "        vertical-align: top;\n",
       "    }\n",
       "\n",
       "    .dataframe thead th {\n",
       "        text-align: right;\n",
       "    }\n",
       "</style>\n",
       "<table border=\"1\" class=\"dataframe\">\n",
       "  <thead>\n",
       "    <tr style=\"text-align: right;\">\n",
       "      <th></th>\n",
       "      <th>level_0</th>\n",
       "      <th>level_1</th>\n",
       "      <th>0</th>\n",
       "    </tr>\n",
       "  </thead>\n",
       "  <tbody>\n",
       "    <tr>\n",
       "      <th>527</th>\n",
       "      <td>target</td>\n",
       "      <td>B_9</td>\n",
       "      <td>0.467484</td>\n",
       "    </tr>\n",
       "    <tr>\n",
       "      <th>514</th>\n",
       "      <td>target</td>\n",
       "      <td>B_7</td>\n",
       "      <td>0.419232</td>\n",
       "    </tr>\n",
       "    <tr>\n",
       "      <th>512</th>\n",
       "      <td>target</td>\n",
       "      <td>B_3</td>\n",
       "      <td>0.412367</td>\n",
       "    </tr>\n",
       "    <tr>\n",
       "      <th>511</th>\n",
       "      <td>target</td>\n",
       "      <td>B_23</td>\n",
       "      <td>0.411280</td>\n",
       "    </tr>\n",
       "    <tr>\n",
       "      <th>505</th>\n",
       "      <td>target</td>\n",
       "      <td>B_4</td>\n",
       "      <td>0.389986</td>\n",
       "    </tr>\n",
       "    <tr>\n",
       "      <th>500</th>\n",
       "      <td>target</td>\n",
       "      <td>B_1</td>\n",
       "      <td>0.378933</td>\n",
       "    </tr>\n",
       "    <tr>\n",
       "      <th>499</th>\n",
       "      <td>target</td>\n",
       "      <td>B_37</td>\n",
       "      <td>0.376236</td>\n",
       "    </tr>\n",
       "    <tr>\n",
       "      <th>498</th>\n",
       "      <td>target</td>\n",
       "      <td>B_19</td>\n",
       "      <td>0.374011</td>\n",
       "    </tr>\n",
       "    <tr>\n",
       "      <th>497</th>\n",
       "      <td>target</td>\n",
       "      <td>B_16</td>\n",
       "      <td>0.373834</td>\n",
       "    </tr>\n",
       "    <tr>\n",
       "      <th>496</th>\n",
       "      <td>target</td>\n",
       "      <td>B_38</td>\n",
       "      <td>0.369393</td>\n",
       "    </tr>\n",
       "    <tr>\n",
       "      <th>494</th>\n",
       "      <td>target</td>\n",
       "      <td>B_20</td>\n",
       "      <td>0.364909</td>\n",
       "    </tr>\n",
       "    <tr>\n",
       "      <th>493</th>\n",
       "      <td>target</td>\n",
       "      <td>B_11</td>\n",
       "      <td>0.358099</td>\n",
       "    </tr>\n",
       "    <tr>\n",
       "      <th>492</th>\n",
       "      <td>target</td>\n",
       "      <td>B_22</td>\n",
       "      <td>0.355531</td>\n",
       "    </tr>\n",
       "    <tr>\n",
       "      <th>489</th>\n",
       "      <td>target</td>\n",
       "      <td>B_30</td>\n",
       "      <td>0.337646</td>\n",
       "    </tr>\n",
       "    <tr>\n",
       "      <th>484</th>\n",
       "      <td>target</td>\n",
       "      <td>B_8</td>\n",
       "      <td>0.322482</td>\n",
       "    </tr>\n",
       "    <tr>\n",
       "      <th>45</th>\n",
       "      <td>target</td>\n",
       "      <td>B_33</td>\n",
       "      <td>-0.440924</td>\n",
       "    </tr>\n",
       "    <tr>\n",
       "      <th>44</th>\n",
       "      <td>target</td>\n",
       "      <td>B_2</td>\n",
       "      <td>-0.472300</td>\n",
       "    </tr>\n",
       "    <tr>\n",
       "      <th>43</th>\n",
       "      <td>target</td>\n",
       "      <td>B_18</td>\n",
       "      <td>-0.476918</td>\n",
       "    </tr>\n",
       "  </tbody>\n",
       "</table>\n",
       "</div>"
      ],
      "text/plain": [
       "    level_0 level_1         0\n",
       "527  target     B_9  0.467484\n",
       "514  target     B_7  0.419232\n",
       "512  target     B_3  0.412367\n",
       "511  target    B_23  0.411280\n",
       "505  target     B_4  0.389986\n",
       "500  target     B_1  0.378933\n",
       "499  target    B_37  0.376236\n",
       "498  target    B_19  0.374011\n",
       "497  target    B_16  0.373834\n",
       "496  target    B_38  0.369393\n",
       "494  target    B_20  0.364909\n",
       "493  target    B_11  0.358099\n",
       "492  target    B_22  0.355531\n",
       "489  target    B_30  0.337646\n",
       "484  target     B_8  0.322482\n",
       "45   target    B_33 -0.440924\n",
       "44   target     B_2 -0.472300\n",
       "43   target    B_18 -0.476918"
      ]
     },
     "execution_count": 17,
     "metadata": {},
     "output_type": "execute_result"
    }
   ],
   "source": [
    "# Comenzamos el ánalisis partiendo las variables por tipo (morosidad, gasto, pago, balance y riesgo)\n",
    "\n",
    "# Correlación variables de balance\n",
    "\n",
    "# El siguiente código obtiene las correlaciones por el método de pearson y construye un dataframe para su visualización\n",
    "corr_B=df[['B_1', 'B_10', 'B_11', 'B_12', 'B_13', 'B_14', 'B_15', 'B_16', 'B_18', 'B_19', 'B_2', 'B_20', 'B_21', 'B_22', 'B_23',\n",
    " 'B_24', 'B_25', 'B_26', 'B_27', 'B_28', 'B_3', 'B_30', 'B_32', 'B_33', 'B_36', 'B_37', 'B_38', 'B_4', 'B_40', 'B_41', 'B_5',\n",
    " 'B_6', 'B_7', 'B_8', 'B_9','target']].corr(method='pearson')\n",
    "\n",
    "upper_corr_B=corr_B.where(np.triu(np.ones(corr_B.shape),k=1).astype(bool))\n",
    "unique_corr_B=upper_corr_B.unstack().dropna()\n",
    "sorted_corr_B=unique_corr_B.sort_values()\n",
    "#sorted_corr_B=corr_B.unstack().sort_values()\n",
    "sorted_corr_B\n",
    "a=pd.DataFrame(sorted_corr_B)\n",
    "a.reset_index(inplace=True)\n",
    "#a[a[\"level_0\"]=='target'].sort_values(by=0,ascending=False)\n",
    "b=a[a[\"level_0\"]=='target'].sort_values(by=0,ascending=False)\n",
    "b[np.abs(b[0])>.3] # Por convención visualizamos aquellas con mas del 30% de correlación según el coef. de pearson."
   ]
  },
  {
   "cell_type": "code",
   "execution_count": 18,
   "metadata": {},
   "outputs": [
    {
     "data": {
      "text/plain": [
       "<AxesSubplot:>"
      ]
     },
     "execution_count": 18,
     "metadata": {},
     "output_type": "execute_result"
    },
    {
     "data": {
      "image/png": "[encoded data removed]",
      "text/plain": [
       "<Figure size 432x288 with 2 Axes>"
      ]
     },
     "metadata": {
      "needs_background": "light"
     },
     "output_type": "display_data"
    }
   ],
   "source": [
    "# Imprimimos una gráfica de la matriz de correlación de todas las variables de Balance, entre ellas y la Target.\n",
    "sns.heatmap(df[['B_1', 'B_10', 'B_11', 'B_12', 'B_13', 'B_14', 'B_15', 'B_16', 'B_18', 'B_19', 'B_2', 'B_20', 'B_21',\n",
    "                'B_22', 'B_23', 'B_24', 'B_25', 'B_26', 'B_27', 'B_28', 'B_3', 'B_30', 'B_32', 'B_33', 'B_36', 'B_37', \n",
    "                'B_38', 'B_4', 'B_40', 'B_41', 'B_5', 'B_6', 'B_7', 'B_8', 'B_9','target']].corr(method='pearson'),square=True)\n"
   ]
  },
  {
   "cell_type": "markdown",
   "metadata": {},
   "source": [
    "## Comentario \n",
    "Con respecto a la correlación entre la variable target y las variables de Balance las que mayormente correlacionan tienen máximo un 47% de relación negativa con la target y 46% de relación positiva, de las 35 variables de Balance solo 18 cumplen con tener una relación de entre el 30% y 50% con la target."
   ]
  },
  {
   "cell_type": "code",
   "execution_count": 19,
   "metadata": {},
   "outputs": [
    {
     "data": {
      "text/html": [
       "<div>\n",
       "<style scoped>\n",
       "    .dataframe tbody tr th:only-of-type {\n",
       "        vertical-align: middle;\n",
       "    }\n",
       "\n",
       "    .dataframe tbody tr th {\n",
       "        vertical-align: top;\n",
       "    }\n",
       "\n",
       "    .dataframe thead th {\n",
       "        text-align: right;\n",
       "    }\n",
       "</style>\n",
       "<table border=\"1\" class=\"dataframe\">\n",
       "  <thead>\n",
       "    <tr style=\"text-align: right;\">\n",
       "      <th></th>\n",
       "      <th>level_0</th>\n",
       "      <th>level_1</th>\n",
       "      <th>0</th>\n",
       "    </tr>\n",
       "  </thead>\n",
       "  <tbody>\n",
       "    <tr>\n",
       "      <th>2421</th>\n",
       "      <td>target</td>\n",
       "      <td>D_48</td>\n",
       "      <td>0.527277</td>\n",
       "    </tr>\n",
       "    <tr>\n",
       "      <th>2410</th>\n",
       "      <td>target</td>\n",
       "      <td>D_61</td>\n",
       "      <td>0.467580</td>\n",
       "    </tr>\n",
       "    <tr>\n",
       "      <th>2408</th>\n",
       "      <td>target</td>\n",
       "      <td>D_44</td>\n",
       "      <td>0.448552</td>\n",
       "    </tr>\n",
       "    <tr>\n",
       "      <th>2407</th>\n",
       "      <td>target</td>\n",
       "      <td>D_75</td>\n",
       "      <td>0.446553</td>\n",
       "    </tr>\n",
       "    <tr>\n",
       "      <th>2405</th>\n",
       "      <td>target</td>\n",
       "      <td>D_58</td>\n",
       "      <td>0.435624</td>\n",
       "    </tr>\n",
       "    <tr>\n",
       "      <th>2404</th>\n",
       "      <td>target</td>\n",
       "      <td>D_55</td>\n",
       "      <td>0.431538</td>\n",
       "    </tr>\n",
       "    <tr>\n",
       "      <th>2401</th>\n",
       "      <td>target</td>\n",
       "      <td>D_74</td>\n",
       "      <td>0.410502</td>\n",
       "    </tr>\n",
       "    <tr>\n",
       "      <th>19</th>\n",
       "      <td>target</td>\n",
       "      <td>D_62</td>\n",
       "      <td>-0.314648</td>\n",
       "    </tr>\n",
       "  </tbody>\n",
       "</table>\n",
       "</div>"
      ],
      "text/plain": [
       "     level_0 level_1         0\n",
       "2421  target    D_48  0.527277\n",
       "2410  target    D_61  0.467580\n",
       "2408  target    D_44  0.448552\n",
       "2407  target    D_75  0.446553\n",
       "2405  target    D_58  0.435624\n",
       "2404  target    D_55  0.431538\n",
       "2401  target    D_74  0.410502\n",
       "19    target    D_62 -0.314648"
      ]
     },
     "execution_count": 19,
     "metadata": {},
     "output_type": "execute_result"
    }
   ],
   "source": [
    "#Correlación variables de morosidad\n",
    "\n",
    "# El siguiente código obtiene las correlaciones por el método de pearson y construye un dataframe para su visualización\n",
    "corr_D=df[['D_102', 'D_103', 'D_104', 'D_107', 'D_109', 'D_112', 'D_113', 'D_114', 'D_115', 'D_116', 'D_117', 'D_118', 'D_119',\n",
    " 'D_120', 'D_121', 'D_122', 'D_123', 'D_124', 'D_125', 'D_126', 'D_127', 'D_128', 'D_129', 'D_130', 'D_131', 'D_133', 'D_139',\n",
    " 'D_140', 'D_141', 'D_143', 'D_144', 'D_145', 'D_39', 'D_41', 'D_43', 'D_44', 'D_45', 'D_46', 'D_47', 'D_48', 'D_51', 'D_52',\n",
    " 'D_54', 'D_55', 'D_58', 'D_59', 'D_60', 'D_61', 'D_62', 'D_65', 'D_68', 'D_69', 'D_70', 'D_71', 'D_72', 'D_74', 'D_75', 'D_78',\n",
    " 'D_79', 'D_80', 'D_81', 'D_83', 'D_84', 'D_86', 'D_89', 'D_91', 'D_92', 'D_93', 'D_94', 'D_96',\n",
    "           'target']].corr(method='pearson')\n",
    "upper_corr_D=corr_D.where(np.triu(np.ones(corr_D.shape),k=1).astype(bool))\n",
    "unique_corr_D=upper_corr_D.unstack().dropna()\n",
    "sorted_corr_D=unique_corr_D.sort_values()\n",
    "#sorted_corr_B=corr_B.unstack().sort_values()\n",
    "sorted_corr_D\n",
    "a=pd.DataFrame(sorted_corr_D)\n",
    "a.reset_index(inplace=True)\n",
    "#(a[a[\"level_0\"]=='target'].sort_values(by=0,ascending=False)).where(np.abs(a[0])>.3)\n",
    "b=a[a[\"level_0\"]=='target'].sort_values(by=0,ascending=False)\n",
    "b[np.abs(b[0])>.3] # Por convención visualizamos aquellas con mas del 30% de correlación según el coef. de pearson."
   ]
  },
  {
   "cell_type": "code",
   "execution_count": 20,
   "metadata": {},
   "outputs": [
    {
     "data": {
      "text/plain": [
       "<AxesSubplot:>"
      ]
     },
     "execution_count": 20,
     "metadata": {},
     "output_type": "execute_result"
    },
    {
     "data": {
      "image/png": "[encoded data removed]",
      "text/plain": [
       "<Figure size 432x288 with 2 Axes>"
      ]
     },
     "metadata": {
      "needs_background": "light"
     },
     "output_type": "display_data"
    }
   ],
   "source": [
    "# Imprimimos una gráfica de la matriz de correlación de todas las variables de Morosidad, entre ellas y la Target.\n",
    "sns.heatmap(df[['D_102', 'D_103', 'D_104', 'D_107', 'D_109', 'D_112', 'D_113', 'D_114', 'D_115', 'D_116', 'D_117', 'D_118', \n",
    "                'D_119', 'D_120', 'D_121', 'D_122', 'D_123', 'D_124', 'D_125', 'D_126', 'D_127', 'D_128', 'D_129', 'D_130',\n",
    "                'D_131', 'D_133', 'D_139', 'D_140', 'D_141', 'D_143', 'D_144', 'D_145', 'D_39', 'D_41', 'D_43', 'D_44',\n",
    "                'D_45', 'D_46', 'D_47', 'D_48', 'D_51', 'D_52', 'D_54', 'D_55', 'D_58', 'D_59', 'D_60', 'D_61', 'D_62',\n",
    "                'D_65', 'D_68', 'D_69', 'D_70', 'D_71', 'D_72', 'D_74', 'D_75', 'D_78', 'D_79', 'D_80', 'D_81', 'D_83',\n",
    "                'D_84', 'D_86', 'D_89', 'D_91', 'D_92', 'D_93', 'D_94', 'D_96','target']].corr(method='pearson'),square=True)"
   ]
  },
  {
   "cell_type": "markdown",
   "metadata": {},
   "source": [
    "## Comentario\n",
    "Solo hay 8 variables de morosidad que correlacionan en más del 30% con la variable target."
   ]
  },
  {
   "cell_type": "code",
   "execution_count": 21,
   "metadata": {},
   "outputs": [
    {
     "data": {
      "text/html": [
       "<div>\n",
       "<style scoped>\n",
       "    .dataframe tbody tr th:only-of-type {\n",
       "        vertical-align: middle;\n",
       "    }\n",
       "\n",
       "    .dataframe tbody tr th {\n",
       "        vertical-align: top;\n",
       "    }\n",
       "\n",
       "    .dataframe thead th {\n",
       "        text-align: right;\n",
       "    }\n",
       "</style>\n",
       "<table border=\"1\" class=\"dataframe\">\n",
       "  <thead>\n",
       "    <tr style=\"text-align: right;\">\n",
       "      <th></th>\n",
       "      <th>level_0</th>\n",
       "      <th>level_1</th>\n",
       "      <th>0</th>\n",
       "    </tr>\n",
       "  </thead>\n",
       "  <tbody>\n",
       "    <tr>\n",
       "      <th>4</th>\n",
       "      <td>target</td>\n",
       "      <td>P_4</td>\n",
       "      <td>0.242053</td>\n",
       "    </tr>\n",
       "    <tr>\n",
       "      <th>2</th>\n",
       "      <td>target</td>\n",
       "      <td>P_3</td>\n",
       "      <td>-0.228331</td>\n",
       "    </tr>\n",
       "    <tr>\n",
       "      <th>0</th>\n",
       "      <td>target</td>\n",
       "      <td>P_2</td>\n",
       "      <td>-0.604900</td>\n",
       "    </tr>\n",
       "  </tbody>\n",
       "</table>\n",
       "</div>"
      ],
      "text/plain": [
       "  level_0 level_1         0\n",
       "4  target     P_4  0.242053\n",
       "2  target     P_3 -0.228331\n",
       "0  target     P_2 -0.604900"
      ]
     },
     "execution_count": 21,
     "metadata": {},
     "output_type": "execute_result"
    }
   ],
   "source": [
    "#Correlación variables de pago\n",
    "# El siguiente código obtiene las correlaciones por el método de pearson y construye un dataframe para su visualización\n",
    "corr_D=df[['P_2', 'P_3', 'P_4','target']].corr(method='pearson')\n",
    "upper_corr_D=corr_D.where(np.triu(np.ones(corr_D.shape),k=1).astype(bool))\n",
    "unique_corr_D=upper_corr_D.unstack().dropna()\n",
    "sorted_corr_D=unique_corr_D.sort_values()\n",
    "#sorted_corr_B=corr_B.unstack().sort_values()\n",
    "sorted_corr_D\n",
    "a=pd.DataFrame(sorted_corr_D)\n",
    "a.reset_index(inplace=True)\n",
    "#(a[a[\"level_0\"]=='target'].sort_values(by=0,ascending=False)).where(np.abs(a[0])>.3)\n",
    "b=a[a[\"level_0\"]=='target'].sort_values(by=0,ascending=False)\n",
    "#b[np.abs(b[0])>.3]\n",
    "b"
   ]
  },
  {
   "cell_type": "code",
   "execution_count": 22,
   "metadata": {
    "scrolled": true
   },
   "outputs": [
    {
     "data": {
      "text/plain": [
       "<AxesSubplot:>"
      ]
     },
     "execution_count": 22,
     "metadata": {},
     "output_type": "execute_result"
    },
    {
     "data": {
      "image/png": "[encoded data removed]",
      "text/plain": [
       "<Figure size 432x288 with 2 Axes>"
      ]
     },
     "metadata": {
      "needs_background": "light"
     },
     "output_type": "display_data"
    }
   ],
   "source": [
    "# Imprimimos una gráfica de la matriz de correlación de todas las variables de Pago, entre ellas y la Target.\n",
    "sns.heatmap(df[['P_2', 'P_3', 'P_4','target']].corr(method='pearson'),square=True)"
   ]
  },
  {
   "cell_type": "markdown",
   "metadata": {},
   "source": [
    "## Comentario\n",
    "Solo hay una variable de Pago que correlaciona significativamente con la variable target."
   ]
  },
  {
   "cell_type": "code",
   "execution_count": 23,
   "metadata": {},
   "outputs": [
    {
     "data": {
      "text/html": [
       "<div>\n",
       "<style scoped>\n",
       "    .dataframe tbody tr th:only-of-type {\n",
       "        vertical-align: middle;\n",
       "    }\n",
       "\n",
       "    .dataframe tbody tr th {\n",
       "        vertical-align: top;\n",
       "    }\n",
       "\n",
       "    .dataframe thead th {\n",
       "        text-align: right;\n",
       "    }\n",
       "</style>\n",
       "<table border=\"1\" class=\"dataframe\">\n",
       "  <thead>\n",
       "    <tr style=\"text-align: right;\">\n",
       "      <th></th>\n",
       "      <th>level_0</th>\n",
       "      <th>level_1</th>\n",
       "      <th>0</th>\n",
       "    </tr>\n",
       "  </thead>\n",
       "  <tbody>\n",
       "    <tr>\n",
       "      <th>326</th>\n",
       "      <td>target</td>\n",
       "      <td>R_1</td>\n",
       "      <td>0.362677</td>\n",
       "    </tr>\n",
       "    <tr>\n",
       "      <th>317</th>\n",
       "      <td>target</td>\n",
       "      <td>R_3</td>\n",
       "      <td>0.293585</td>\n",
       "    </tr>\n",
       "    <tr>\n",
       "      <th>309</th>\n",
       "      <td>target</td>\n",
       "      <td>R_2</td>\n",
       "      <td>0.259418</td>\n",
       "    </tr>\n",
       "    <tr>\n",
       "      <th>1</th>\n",
       "      <td>target</td>\n",
       "      <td>R_27</td>\n",
       "      <td>-0.269047</td>\n",
       "    </tr>\n",
       "  </tbody>\n",
       "</table>\n",
       "</div>"
      ],
      "text/plain": [
       "    level_0 level_1         0\n",
       "326  target     R_1  0.362677\n",
       "317  target     R_3  0.293585\n",
       "309  target     R_2  0.259418\n",
       "1    target    R_27 -0.269047"
      ]
     },
     "execution_count": 23,
     "metadata": {},
     "output_type": "execute_result"
    }
   ],
   "source": [
    "#Correlación variables de riesgo\n",
    "# El siguiente código obtiene las correlaciones por el método de pearson y construye un dataframe para su visualización\n",
    "corr_D=df[['R_1', 'R_10', 'R_11', 'R_12', 'R_13', 'R_14', 'R_15', 'R_16', 'R_17', 'R_18', 'R_19', 'R_2', 'R_20', 'R_21', 'R_22',\n",
    " 'R_23', 'R_24', 'R_25', 'R_27', 'R_28', 'R_3', 'R_4', 'R_5', 'R_6', 'R_7', 'R_8','target']].corr(method='pearson')\n",
    "upper_corr_D=corr_D.where(np.triu(np.ones(corr_D.shape),k=1).astype(bool))\n",
    "unique_corr_D=upper_corr_D.unstack().dropna()\n",
    "sorted_corr_D=unique_corr_D.sort_values()\n",
    "#sorted_corr_B=corr_B.unstack().sort_values()\n",
    "sorted_corr_D\n",
    "a=pd.DataFrame(sorted_corr_D)\n",
    "a.reset_index(inplace=True)\n",
    "#(a[a[\"level_0\"]=='target'].sort_values(by=0,ascending=False)).where(np.abs(a[0])>.3)\n",
    "b=a[a[\"level_0\"]=='target'].sort_values(by=0,ascending=False)\n",
    "b[np.abs(b[0])>.25] # Por convención visualizamos aquellas con mas del 25% de correlación según el coef. de pearson."
   ]
  },
  {
   "cell_type": "code",
   "execution_count": 24,
   "metadata": {
    "scrolled": true
   },
   "outputs": [
    {
     "data": {
      "text/plain": [
       "<AxesSubplot:>"
      ]
     },
     "execution_count": 24,
     "metadata": {},
     "output_type": "execute_result"
    },
    {
     "data": {
      "image/png": "[encoded data removed]",
      "text/plain": [
       "<Figure size 432x288 with 2 Axes>"
      ]
     },
     "metadata": {
      "needs_background": "light"
     },
     "output_type": "display_data"
    }
   ],
   "source": [
    "# Imprimimos una gráfica de la matriz de correlación de todas las variables de Riesgo, entre ellas y la Target.\n",
    "sns.heatmap(df[['R_1', 'R_10', 'R_11', 'R_12', 'R_13', 'R_14', 'R_15', 'R_16', 'R_17', 'R_18', 'R_19', 'R_2', \n",
    "                'R_20', 'R_21', 'R_22', 'R_23', 'R_24', 'R_25', 'R_27', 'R_28', 'R_3', 'R_4', 'R_5', 'R_6', 'R_7',\n",
    "                'R_8','target']].corr(method='pearson'),square=True)"
   ]
  },
  {
   "cell_type": "markdown",
   "metadata": {},
   "source": [
    "## Comentario\n",
    "La variable de riesgo que correlaciona más con la variable target lo hace con un 36% en un sentido positivo."
   ]
  },
  {
   "cell_type": "code",
   "execution_count": 25,
   "metadata": {},
   "outputs": [
    {
     "data": {
      "text/html": [
       "<div>\n",
       "<style scoped>\n",
       "    .dataframe tbody tr th:only-of-type {\n",
       "        vertical-align: middle;\n",
       "    }\n",
       "\n",
       "    .dataframe tbody tr th {\n",
       "        vertical-align: top;\n",
       "    }\n",
       "\n",
       "    .dataframe thead th {\n",
       "        text-align: right;\n",
       "    }\n",
       "</style>\n",
       "<table border=\"1\" class=\"dataframe\">\n",
       "  <thead>\n",
       "    <tr style=\"text-align: right;\">\n",
       "      <th></th>\n",
       "      <th>level_0</th>\n",
       "      <th>level_1</th>\n",
       "      <th>0</th>\n",
       "    </tr>\n",
       "  </thead>\n",
       "  <tbody>\n",
       "    <tr>\n",
       "      <th>201</th>\n",
       "      <td>target</td>\n",
       "      <td>S_7</td>\n",
       "      <td>0.335293</td>\n",
       "    </tr>\n",
       "    <tr>\n",
       "      <th>200</th>\n",
       "      <td>target</td>\n",
       "      <td>S_3</td>\n",
       "      <td>0.323726</td>\n",
       "    </tr>\n",
       "    <tr>\n",
       "      <th>8</th>\n",
       "      <td>target</td>\n",
       "      <td>S_25</td>\n",
       "      <td>-0.243644</td>\n",
       "    </tr>\n",
       "  </tbody>\n",
       "</table>\n",
       "</div>"
      ],
      "text/plain": [
       "    level_0 level_1         0\n",
       "201  target     S_7  0.335293\n",
       "200  target     S_3  0.323726\n",
       "8    target    S_25 -0.243644"
      ]
     },
     "execution_count": 25,
     "metadata": {},
     "output_type": "execute_result"
    }
   ],
   "source": [
    "#Correlación variables de gasto\n",
    "# El siguiente código obtiene las correlaciones por el método de pearson y construye un dataframe para su visualización\n",
    "corr_D=df[['S_11', 'S_12', 'S_13', 'S_15', 'S_16', 'S_17', 'S_18', 'S_19', 'S_20', 'S_22', 'S_23', 'S_24', 'S_25', 'S_26',\n",
    " 'S_27', 'S_3', 'S_5', 'S_6', 'S_7', 'S_8','target']].corr(method='pearson')\n",
    "upper_corr_D=corr_D.where(np.triu(np.ones(corr_D.shape),k=1).astype(bool))\n",
    "unique_corr_D=upper_corr_D.unstack().dropna()\n",
    "sorted_corr_D=unique_corr_D.sort_values()\n",
    "#sorted_corr_B=corr_B.unstack().sort_values()\n",
    "sorted_corr_D\n",
    "a=pd.DataFrame(sorted_corr_D)\n",
    "a.reset_index(inplace=True)\n",
    "#(a[a[\"level_0\"]=='target'].sort_values(by=0,ascending=False)).where(np.abs(a[0])>.3)\n",
    "b=a[a[\"level_0\"]=='target'].sort_values(by=0,ascending=False)\n",
    "b[np.abs(b[0])>.2] # Por convención visualizamos aquellas con mas del 20% de correlación según el coef. de pearson."
   ]
  },
  {
   "cell_type": "code",
   "execution_count": 26,
   "metadata": {
    "scrolled": true
   },
   "outputs": [
    {
     "data": {
      "text/plain": [
       "<AxesSubplot:>"
      ]
     },
     "execution_count": 26,
     "metadata": {},
     "output_type": "execute_result"
    },
    {
     "data": {
      "image/png": "[encoded data removed]",
      "text/plain": [
       "<Figure size 432x288 with 2 Axes>"
      ]
     },
     "metadata": {
      "needs_background": "light"
     },
     "output_type": "display_data"
    }
   ],
   "source": [
    "# Imprimimos una gráfica de la matriz de correlación de todas las variables de Gasto, entre ellas y la Target.\n",
    "sns.heatmap(df[['S_11', 'S_12', 'S_13', 'S_15', 'S_16', 'S_17', 'S_18', 'S_19', 'S_20', 'S_22', 'S_23', 'S_24', 'S_25', 'S_26',\n",
    " 'S_27', 'S_3', 'S_5', 'S_6', 'S_7', 'S_8','target']].corr(method='pearson'),square=True)"
   ]
  },
  {
   "cell_type": "markdown",
   "metadata": {},
   "source": [
    "## Comentario\n",
    "La variable de gasto que correlaciona más con la variable target lo hace con un 33% en un sentido positivo."
   ]
  },
  {
   "cell_type": "markdown",
   "metadata": {},
   "source": [
    "## Observación final del análisis de correlación \n",
    "La variable objetivo \"target\" tiene una mayor relación con variables de balance en el análisis bivariado,detrás variables de morosidad. Las variables de gasto son menos las que correlacionan con un valor mayor al 30%."
   ]
  },
  {
   "cell_type": "markdown",
   "metadata": {},
   "source": [
    "<h4><font color='black'><span style='background :white' >Clustering de variables</span></font></h4>\n",
    "En esta sección del código vamos a aplicar un método que consiste en obtener la relación directa que existe entre grupos de las variables de entrada de nuestro análisis, esto con la finalidad de reducir la dimensionalidad de nuestro dataset y eliminar la redundancia entre dichas variables."
   ]
  },
  {
   "cell_type": "code",
   "execution_count": 27,
   "metadata": {},
   "outputs": [],
   "source": [
    "# Si no se cuenta con el paquete varclushi instalado descomentar y ejecutar esta celda\n",
    "#!pip install varclushi"
   ]
  },
  {
   "cell_type": "code",
   "execution_count": 28,
   "metadata": {},
   "outputs": [],
   "source": [
    "#Realizamos una copia del Data Set Original para eliminar la Target ya que en el siguiente análisis no se necesita\n",
    "df_sin_target=df.copy()"
   ]
  },
  {
   "cell_type": "code",
   "execution_count": 29,
   "metadata": {
    "scrolled": true
   },
   "outputs": [
    {
     "data": {
      "text/plain": [
       "<varclushi.varclushi.VarClusHi at 0x1d3e6e0ddf0>"
      ]
     },
     "execution_count": 29,
     "metadata": {},
     "output_type": "execute_result"
    }
   ],
   "source": [
    "#Clusterin de variables\n",
    "from varclushi import VarClusHi\n",
    "#Para este analisis no necesitamos la variable objetivo\n",
    "df_sin_target.drop('target', inplace=True, axis=1)\n",
    "#Realizamos el clustering\n",
    "var_clust_model=VarClusHi(df_sin_target,maxeigval2=0.7, maxclus=None)\n",
    "var_clust_model.varclus()"
   ]
  },
  {
   "cell_type": "code",
   "execution_count": 30,
   "metadata": {},
   "outputs": [
    {
     "data": {
      "text/html": [
       "<div>\n",
       "<style scoped>\n",
       "    .dataframe tbody tr th:only-of-type {\n",
       "        vertical-align: middle;\n",
       "    }\n",
       "\n",
       "    .dataframe tbody tr th {\n",
       "        vertical-align: top;\n",
       "    }\n",
       "\n",
       "    .dataframe thead th {\n",
       "        text-align: right;\n",
       "    }\n",
       "</style>\n",
       "<table border=\"1\" class=\"dataframe\">\n",
       "  <thead>\n",
       "    <tr style=\"text-align: right;\">\n",
       "      <th></th>\n",
       "      <th>Cluster</th>\n",
       "      <th>Variable</th>\n",
       "      <th>RS_Own</th>\n",
       "      <th>RS_NC</th>\n",
       "      <th>RS_Ratio</th>\n",
       "    </tr>\n",
       "  </thead>\n",
       "  <tbody>\n",
       "    <tr>\n",
       "      <th>0</th>\n",
       "      <td>0</td>\n",
       "      <td>B_2</td>\n",
       "      <td>0.853129</td>\n",
       "      <td>0.511265</td>\n",
       "      <td>0.300513</td>\n",
       "    </tr>\n",
       "    <tr>\n",
       "      <th>1</th>\n",
       "      <td>0</td>\n",
       "      <td>B_9</td>\n",
       "      <td>0.487800</td>\n",
       "      <td>0.301069</td>\n",
       "      <td>0.732834</td>\n",
       "    </tr>\n",
       "    <tr>\n",
       "      <th>2</th>\n",
       "      <td>0</td>\n",
       "      <td>B_16</td>\n",
       "      <td>0.820730</td>\n",
       "      <td>0.467375</td>\n",
       "      <td>0.336578</td>\n",
       "    </tr>\n",
       "    <tr>\n",
       "      <th>3</th>\n",
       "      <td>0</td>\n",
       "      <td>B_18</td>\n",
       "      <td>0.813792</td>\n",
       "      <td>0.520910</td>\n",
       "      <td>0.388669</td>\n",
       "    </tr>\n",
       "    <tr>\n",
       "      <th>4</th>\n",
       "      <td>0</td>\n",
       "      <td>B_20</td>\n",
       "      <td>0.792746</td>\n",
       "      <td>0.520247</td>\n",
       "      <td>0.432000</td>\n",
       "    </tr>\n",
       "    <tr>\n",
       "      <th>...</th>\n",
       "      <td>...</td>\n",
       "      <td>...</td>\n",
       "      <td>...</td>\n",
       "      <td>...</td>\n",
       "      <td>...</td>\n",
       "    </tr>\n",
       "    <tr>\n",
       "      <th>149</th>\n",
       "      <td>81</td>\n",
       "      <td>D_114</td>\n",
       "      <td>1.000000</td>\n",
       "      <td>0.253386</td>\n",
       "      <td>0.000000</td>\n",
       "    </tr>\n",
       "    <tr>\n",
       "      <th>150</th>\n",
       "      <td>82</td>\n",
       "      <td>R_20</td>\n",
       "      <td>0.841753</td>\n",
       "      <td>0.388705</td>\n",
       "      <td>0.258872</td>\n",
       "    </tr>\n",
       "    <tr>\n",
       "      <th>151</th>\n",
       "      <td>82</td>\n",
       "      <td>R_24</td>\n",
       "      <td>0.841753</td>\n",
       "      <td>0.281577</td>\n",
       "      <td>0.220271</td>\n",
       "    </tr>\n",
       "    <tr>\n",
       "      <th>152</th>\n",
       "      <td>83</td>\n",
       "      <td>D_122</td>\n",
       "      <td>1.000000</td>\n",
       "      <td>0.170414</td>\n",
       "      <td>0.000000</td>\n",
       "    </tr>\n",
       "    <tr>\n",
       "      <th>153</th>\n",
       "      <td>84</td>\n",
       "      <td>D_39</td>\n",
       "      <td>1.000000</td>\n",
       "      <td>0.185513</td>\n",
       "      <td>0.000000</td>\n",
       "    </tr>\n",
       "  </tbody>\n",
       "</table>\n",
       "<p>154 rows × 5 columns</p>\n",
       "</div>"
      ],
      "text/plain": [
       "    Cluster Variable    RS_Own     RS_NC  RS_Ratio\n",
       "0         0      B_2  0.853129  0.511265  0.300513\n",
       "1         0      B_9  0.487800  0.301069  0.732834\n",
       "2         0     B_16  0.820730  0.467375  0.336578\n",
       "3         0     B_18  0.813792  0.520910  0.388669\n",
       "4         0     B_20  0.792746  0.520247  0.432000\n",
       "..      ...      ...       ...       ...       ...\n",
       "149      81    D_114  1.000000  0.253386  0.000000\n",
       "150      82     R_20  0.841753  0.388705  0.258872\n",
       "151      82     R_24  0.841753  0.281577  0.220271\n",
       "152      83    D_122  1.000000  0.170414  0.000000\n",
       "153      84     D_39  1.000000  0.185513  0.000000\n",
       "\n",
       "[154 rows x 5 columns]"
      ]
     },
     "execution_count": 30,
     "metadata": {},
     "output_type": "execute_result"
    }
   ],
   "source": [
    "#Visualizamos los clusters formados\n",
    "var_clust_model.rsquare"
   ]
  },
  {
   "cell_type": "code",
   "execution_count": 31,
   "metadata": {},
   "outputs": [],
   "source": [
    "#Exportamos la tabla resultante en el proceso anterior\n",
    "var_clus=var_clust_model.rsquare\n",
    "var_clus.to_csv('var_clust.csv')"
   ]
  },
  {
   "cell_type": "markdown",
   "metadata": {},
   "source": [
    "# Observación\n",
    "Tras el Análisis de Clustering de variables podemos tomar la variable con la distancia menor al centroide dentro de cada cluster, esto es con el valor del RS_Ratio y así elegiriamos una variable representante de cada grupo de acuerdo a su nivel de correlación. Por otro lado aquellos cluster cuyo número de variables es uno significa que son variables que no se correlaconan con ninguna otra.\n",
    "\n",
    "El criterio tomado es que la iteración del algoritmo pare cuando se tenga el 70% de la Varianza explicada.\n",
    "\n",
    "En este caso de 154 variables que entraron al análisis podemos explicar el 70% de la varianza del fenómeno solo con 85 variables."
   ]
  },
  {
   "cell_type": "code",
   "execution_count": 32,
   "metadata": {},
   "outputs": [],
   "source": [
    "#Eliminamos la variables correlacionada de nuestro Data set original\n",
    "col_drop2 = ['B_2','B_16','B_18','B_20','B_38','B_9','D_118','D_115','D_89','R_5','S_8','D_61',\n",
    "            'D_55','P_2','D_143','D_141','D_145','D_103','D_107','D_102','R_21','D_79','D_133',\n",
    "            'D_130','R_25','R_12','B_13','B_5','D_45','P_4','S_24','D_72','D_84','D_112','D_54',\n",
    "            'R_3','R_16','S_3','D_91','D_92','B_11','B_37','D_128','D_125','R_1','D_78','D_71',\n",
    "            'D_74','D_58','D_70','D_44','B_4','R_2','R_8','B_28','D_62','D_47','B_22','B_19',\n",
    "            'B_3','R_6','P_3','B_14','B_23','B_15','D_68','B_21','S_13','R_20'] \n",
    "df.drop(col_drop2, inplace=True, axis=1)"
   ]
  },
  {
   "cell_type": "code",
   "execution_count": 33,
   "metadata": {
    "scrolled": false
   },
   "outputs": [
    {
     "data": {
      "text/html": [
       "<div>\n",
       "<style scoped>\n",
       "    .dataframe tbody tr th:only-of-type {\n",
       "        vertical-align: middle;\n",
       "    }\n",
       "\n",
       "    .dataframe tbody tr th {\n",
       "        vertical-align: top;\n",
       "    }\n",
       "\n",
       "    .dataframe thead th {\n",
       "        text-align: right;\n",
       "    }\n",
       "</style>\n",
       "<table border=\"1\" class=\"dataframe\">\n",
       "  <thead>\n",
       "    <tr style=\"text-align: right;\">\n",
       "      <th></th>\n",
       "      <th>D_39</th>\n",
       "      <th>B_1</th>\n",
       "      <th>D_41</th>\n",
       "      <th>D_43</th>\n",
       "      <th>D_46</th>\n",
       "      <th>D_48</th>\n",
       "      <th>B_6</th>\n",
       "      <th>B_7</th>\n",
       "      <th>B_8</th>\n",
       "      <th>D_51</th>\n",
       "      <th>...</th>\n",
       "      <th>D_126</th>\n",
       "      <th>D_127</th>\n",
       "      <th>D_129</th>\n",
       "      <th>B_41</th>\n",
       "      <th>D_131</th>\n",
       "      <th>R_28</th>\n",
       "      <th>D_139</th>\n",
       "      <th>D_140</th>\n",
       "      <th>D_144</th>\n",
       "      <th>target</th>\n",
       "    </tr>\n",
       "  </thead>\n",
       "  <tbody>\n",
       "    <tr>\n",
       "      <th>0</th>\n",
       "      <td>0.000703</td>\n",
       "      <td>0.010017</td>\n",
       "      <td>0.008048</td>\n",
       "      <td>0.074066</td>\n",
       "      <td>0.450230</td>\n",
       "      <td>0.053509</td>\n",
       "      <td>0.203157</td>\n",
       "      <td>0.021792</td>\n",
       "      <td>0.002591</td>\n",
       "      <td>0.334095</td>\n",
       "      <td>...</td>\n",
       "      <td>1.0</td>\n",
       "      <td>0.002147</td>\n",
       "      <td>0.003417</td>\n",
       "      <td>0.004020</td>\n",
       "      <td>0.004942</td>\n",
       "      <td>0.000473</td>\n",
       "      <td>0.007267</td>\n",
       "      <td>0.005693</td>\n",
       "      <td>0.001934</td>\n",
       "      <td>0.0</td>\n",
       "    </tr>\n",
       "    <tr>\n",
       "      <th>1</th>\n",
       "      <td>0.008442</td>\n",
       "      <td>0.048399</td>\n",
       "      <td>0.000891</td>\n",
       "      <td>0.050604</td>\n",
       "      <td>0.459737</td>\n",
       "      <td>0.292940</td>\n",
       "      <td>0.031634</td>\n",
       "      <td>0.128801</td>\n",
       "      <td>0.001507</td>\n",
       "      <td>0.006619</td>\n",
       "      <td>...</td>\n",
       "      <td>1.0</td>\n",
       "      <td>0.001253</td>\n",
       "      <td>1.002477</td>\n",
       "      <td>0.008814</td>\n",
       "      <td>0.008527</td>\n",
       "      <td>0.005323</td>\n",
       "      <td>0.003818</td>\n",
       "      <td>0.005072</td>\n",
       "      <td>0.009793</td>\n",
       "      <td>0.0</td>\n",
       "    </tr>\n",
       "    <tr>\n",
       "      <th>2</th>\n",
       "      <td>0.006712</td>\n",
       "      <td>0.011058</td>\n",
       "      <td>0.007368</td>\n",
       "      <td>0.038598</td>\n",
       "      <td>0.501244</td>\n",
       "      <td>0.941572</td>\n",
       "      <td>0.058611</td>\n",
       "      <td>0.073880</td>\n",
       "      <td>1.008261</td>\n",
       "      <td>0.340935</td>\n",
       "      <td>...</td>\n",
       "      <td>1.0</td>\n",
       "      <td>0.006478</td>\n",
       "      <td>0.002038</td>\n",
       "      <td>0.000046</td>\n",
       "      <td>0.000992</td>\n",
       "      <td>0.007494</td>\n",
       "      <td>0.006866</td>\n",
       "      <td>0.007799</td>\n",
       "      <td>0.001414</td>\n",
       "      <td>1.0</td>\n",
       "    </tr>\n",
       "    <tr>\n",
       "      <th>3</th>\n",
       "      <td>0.004250</td>\n",
       "      <td>0.221267</td>\n",
       "      <td>0.008111</td>\n",
       "      <td>0.052670</td>\n",
       "      <td>0.459737</td>\n",
       "      <td>0.292940</td>\n",
       "      <td>0.004841</td>\n",
       "      <td>0.090462</td>\n",
       "      <td>1.003994</td>\n",
       "      <td>0.000022</td>\n",
       "      <td>...</td>\n",
       "      <td>1.0</td>\n",
       "      <td>0.000500</td>\n",
       "      <td>0.000215</td>\n",
       "      <td>0.009898</td>\n",
       "      <td>0.006460</td>\n",
       "      <td>0.002305</td>\n",
       "      <td>0.004558</td>\n",
       "      <td>0.001099</td>\n",
       "      <td>0.003565</td>\n",
       "      <td>1.0</td>\n",
       "    </tr>\n",
       "    <tr>\n",
       "      <th>4</th>\n",
       "      <td>0.242586</td>\n",
       "      <td>0.060069</td>\n",
       "      <td>0.411929</td>\n",
       "      <td>0.089859</td>\n",
       "      <td>0.459737</td>\n",
       "      <td>0.536306</td>\n",
       "      <td>0.086689</td>\n",
       "      <td>0.072637</td>\n",
       "      <td>0.008448</td>\n",
       "      <td>0.007130</td>\n",
       "      <td>...</td>\n",
       "      <td>1.0</td>\n",
       "      <td>0.003782</td>\n",
       "      <td>1.009527</td>\n",
       "      <td>0.002176</td>\n",
       "      <td>0.009068</td>\n",
       "      <td>0.009323</td>\n",
       "      <td>0.000091</td>\n",
       "      <td>0.003316</td>\n",
       "      <td>0.004825</td>\n",
       "      <td>0.0</td>\n",
       "    </tr>\n",
       "    <tr>\n",
       "      <th>...</th>\n",
       "      <td>...</td>\n",
       "      <td>...</td>\n",
       "      <td>...</td>\n",
       "      <td>...</td>\n",
       "      <td>...</td>\n",
       "      <td>...</td>\n",
       "      <td>...</td>\n",
       "      <td>...</td>\n",
       "      <td>...</td>\n",
       "      <td>...</td>\n",
       "      <td>...</td>\n",
       "      <td>...</td>\n",
       "      <td>...</td>\n",
       "      <td>...</td>\n",
       "      <td>...</td>\n",
       "      <td>...</td>\n",
       "      <td>...</td>\n",
       "      <td>...</td>\n",
       "      <td>...</td>\n",
       "      <td>...</td>\n",
       "      <td>...</td>\n",
       "    </tr>\n",
       "    <tr>\n",
       "      <th>442537</th>\n",
       "      <td>0.179749</td>\n",
       "      <td>0.036868</td>\n",
       "      <td>0.007442</td>\n",
       "      <td>0.073280</td>\n",
       "      <td>0.452435</td>\n",
       "      <td>0.059010</td>\n",
       "      <td>0.202117</td>\n",
       "      <td>0.031874</td>\n",
       "      <td>0.002307</td>\n",
       "      <td>1.004100</td>\n",
       "      <td>...</td>\n",
       "      <td>1.0</td>\n",
       "      <td>0.006797</td>\n",
       "      <td>1.001904</td>\n",
       "      <td>0.003844</td>\n",
       "      <td>0.005807</td>\n",
       "      <td>0.007181</td>\n",
       "      <td>0.002007</td>\n",
       "      <td>0.007335</td>\n",
       "      <td>0.006058</td>\n",
       "      <td>0.0</td>\n",
       "    </tr>\n",
       "    <tr>\n",
       "      <th>442538</th>\n",
       "      <td>0.000013</td>\n",
       "      <td>0.013432</td>\n",
       "      <td>0.007888</td>\n",
       "      <td>0.063877</td>\n",
       "      <td>0.449594</td>\n",
       "      <td>0.026090</td>\n",
       "      <td>0.382536</td>\n",
       "      <td>0.049315</td>\n",
       "      <td>0.006618</td>\n",
       "      <td>0.335678</td>\n",
       "      <td>...</td>\n",
       "      <td>0.0</td>\n",
       "      <td>1.004295</td>\n",
       "      <td>1.000521</td>\n",
       "      <td>0.005994</td>\n",
       "      <td>0.007168</td>\n",
       "      <td>0.007577</td>\n",
       "      <td>0.005449</td>\n",
       "      <td>0.009665</td>\n",
       "      <td>0.000714</td>\n",
       "      <td>0.0</td>\n",
       "    </tr>\n",
       "    <tr>\n",
       "      <th>442539</th>\n",
       "      <td>0.035479</td>\n",
       "      <td>0.873243</td>\n",
       "      <td>0.004677</td>\n",
       "      <td>0.122226</td>\n",
       "      <td>0.459737</td>\n",
       "      <td>0.039915</td>\n",
       "      <td>0.237358</td>\n",
       "      <td>0.599893</td>\n",
       "      <td>1.009359</td>\n",
       "      <td>0.003901</td>\n",
       "      <td>...</td>\n",
       "      <td>0.0</td>\n",
       "      <td>0.002256</td>\n",
       "      <td>0.008726</td>\n",
       "      <td>0.000320</td>\n",
       "      <td>0.005391</td>\n",
       "      <td>0.007087</td>\n",
       "      <td>0.001459</td>\n",
       "      <td>0.007947</td>\n",
       "      <td>0.000236</td>\n",
       "      <td>1.0</td>\n",
       "    </tr>\n",
       "    <tr>\n",
       "      <th>442540</th>\n",
       "      <td>0.008020</td>\n",
       "      <td>0.007429</td>\n",
       "      <td>0.007628</td>\n",
       "      <td>0.089859</td>\n",
       "      <td>0.459737</td>\n",
       "      <td>0.292940</td>\n",
       "      <td>0.178784</td>\n",
       "      <td>0.001239</td>\n",
       "      <td>1.006196</td>\n",
       "      <td>0.004903</td>\n",
       "      <td>...</td>\n",
       "      <td>0.0</td>\n",
       "      <td>0.009059</td>\n",
       "      <td>0.006810</td>\n",
       "      <td>0.009154</td>\n",
       "      <td>0.000806</td>\n",
       "      <td>0.005014</td>\n",
       "      <td>0.006444</td>\n",
       "      <td>0.001845</td>\n",
       "      <td>0.001387</td>\n",
       "      <td>0.0</td>\n",
       "    </tr>\n",
       "    <tr>\n",
       "      <th>442541</th>\n",
       "      <td>0.004288</td>\n",
       "      <td>0.105060</td>\n",
       "      <td>0.007221</td>\n",
       "      <td>0.089859</td>\n",
       "      <td>0.459737</td>\n",
       "      <td>0.292940</td>\n",
       "      <td>0.175042</td>\n",
       "      <td>0.048031</td>\n",
       "      <td>1.008910</td>\n",
       "      <td>0.002597</td>\n",
       "      <td>...</td>\n",
       "      <td>1.0</td>\n",
       "      <td>0.001263</td>\n",
       "      <td>0.008777</td>\n",
       "      <td>0.004093</td>\n",
       "      <td>0.005562</td>\n",
       "      <td>0.007211</td>\n",
       "      <td>0.006057</td>\n",
       "      <td>0.005115</td>\n",
       "      <td>0.005501</td>\n",
       "      <td>0.0</td>\n",
       "    </tr>\n",
       "  </tbody>\n",
       "</table>\n",
       "<p>442542 rows × 86 columns</p>\n",
       "</div>"
      ],
      "text/plain": [
       "            D_39       B_1      D_41      D_43      D_46      D_48       B_6  \\\n",
       "0       0.000703  0.010017  0.008048  0.074066  0.450230  0.053509  0.203157   \n",
       "1       0.008442  0.048399  0.000891  0.050604  0.459737  0.292940  0.031634   \n",
       "2       0.006712  0.011058  0.007368  0.038598  0.501244  0.941572  0.058611   \n",
       "3       0.004250  0.221267  0.008111  0.052670  0.459737  0.292940  0.004841   \n",
       "4       0.242586  0.060069  0.411929  0.089859  0.459737  0.536306  0.086689   \n",
       "...          ...       ...       ...       ...       ...       ...       ...   \n",
       "442537  0.179749  0.036868  0.007442  0.073280  0.452435  0.059010  0.202117   \n",
       "442538  0.000013  0.013432  0.007888  0.063877  0.449594  0.026090  0.382536   \n",
       "442539  0.035479  0.873243  0.004677  0.122226  0.459737  0.039915  0.237358   \n",
       "442540  0.008020  0.007429  0.007628  0.089859  0.459737  0.292940  0.178784   \n",
       "442541  0.004288  0.105060  0.007221  0.089859  0.459737  0.292940  0.175042   \n",
       "\n",
       "             B_7       B_8      D_51  ...  D_126     D_127     D_129  \\\n",
       "0       0.021792  0.002591  0.334095  ...    1.0  0.002147  0.003417   \n",
       "1       0.128801  0.001507  0.006619  ...    1.0  0.001253  1.002477   \n",
       "2       0.073880  1.008261  0.340935  ...    1.0  0.006478  0.002038   \n",
       "3       0.090462  1.003994  0.000022  ...    1.0  0.000500  0.000215   \n",
       "4       0.072637  0.008448  0.007130  ...    1.0  0.003782  1.009527   \n",
       "...          ...       ...       ...  ...    ...       ...       ...   \n",
       "442537  0.031874  0.002307  1.004100  ...    1.0  0.006797  1.001904   \n",
       "442538  0.049315  0.006618  0.335678  ...    0.0  1.004295  1.000521   \n",
       "442539  0.599893  1.009359  0.003901  ...    0.0  0.002256  0.008726   \n",
       "442540  0.001239  1.006196  0.004903  ...    0.0  0.009059  0.006810   \n",
       "442541  0.048031  1.008910  0.002597  ...    1.0  0.001263  0.008777   \n",
       "\n",
       "            B_41     D_131      R_28     D_139     D_140     D_144  target  \n",
       "0       0.004020  0.004942  0.000473  0.007267  0.005693  0.001934     0.0  \n",
       "1       0.008814  0.008527  0.005323  0.003818  0.005072  0.009793     0.0  \n",
       "2       0.000046  0.000992  0.007494  0.006866  0.007799  0.001414     1.0  \n",
       "3       0.009898  0.006460  0.002305  0.004558  0.001099  0.003565     1.0  \n",
       "4       0.002176  0.009068  0.009323  0.000091  0.003316  0.004825     0.0  \n",
       "...          ...       ...       ...       ...       ...       ...     ...  \n",
       "442537  0.003844  0.005807  0.007181  0.002007  0.007335  0.006058     0.0  \n",
       "442538  0.005994  0.007168  0.007577  0.005449  0.009665  0.000714     0.0  \n",
       "442539  0.000320  0.005391  0.007087  0.001459  0.007947  0.000236     1.0  \n",
       "442540  0.009154  0.000806  0.005014  0.006444  0.001845  0.001387     0.0  \n",
       "442541  0.004093  0.005562  0.007211  0.006057  0.005115  0.005501     0.0  \n",
       "\n",
       "[442542 rows x 86 columns]"
      ]
     },
     "execution_count": 33,
     "metadata": {},
     "output_type": "execute_result"
    }
   ],
   "source": [
    "# Visualizamos que las variables ya no esten en el dataframe\n",
    "df"
   ]
  },
  {
   "cell_type": "markdown",
   "metadata": {},
   "source": [
    "## Conclusión del Análisis exploratorio\n",
    "Tras los resultados del análisis exploratorio concluimos que se cuenta con variables que tienen cierto nivel de relación con la variable objetivo, por ello podemos modelar el fenómeno. De igual manera hemos quitado la redundancia entre las variables de entrada reduciendo el dataset de 154 a 85 variables las cuales ya no tienen valores perdidos."
   ]
  },
  {
   "cell_type": "markdown",
   "metadata": {},
   "source": [
    "<h2><font color='black'><span style='background :white' >** Modelación Parte 1 **</span></font></h2>\n",
    "\n",
    "En esta parte vamos correr algunos modelos que nos puedan decir la relación que existe entre nuestras variables de entrada y la variable objetivo. Se busca obtener un modelo que prediga el impago con las variables porpuestas resultantes de nuestro Análisis exploratorio."
   ]
  },
  {
   "cell_type": "markdown",
   "metadata": {},
   "source": [
    "<h2><font color='black'><span style='background :white' >** Modelo 1: Regresión Logística **</span></font></h2>\n",
    "El primer modelo a probar es una regresión Logística, la cual es el algoritmo más común para temas de riesgo de crédito."
   ]
  },
  {
   "cell_type": "code",
   "execution_count": 34,
   "metadata": {},
   "outputs": [],
   "source": [
    "# Separación del conjunto en inputs y target\n",
    "Y=df['target']\n",
    "X=df.copy()\n",
    "X.drop('target', inplace=True, axis=1)"
   ]
  },
  {
   "cell_type": "code",
   "execution_count": 35,
   "metadata": {},
   "outputs": [],
   "source": [
    "# Realizamos un proceso de estandarización de las variables con el fin de que todas sean comparables\n",
    "from sklearn.preprocessing import StandardScaler\n",
    "scaler = StandardScaler()\n",
    "X = pd.DataFrame(scaler.fit_transform(X), index=X.index, columns=X.columns) "
   ]
  },
  {
   "cell_type": "code",
   "execution_count": 36,
   "metadata": {},
   "outputs": [],
   "source": [
    "# Conjuntos de entrenamiento y test con un 80%-20%\n",
    "from sklearn.model_selection import train_test_split\n",
    "X_train, X_test, Y_train, Y_test = train_test_split(X, Y, random_state = 1, shuffle=True, stratify=Y, test_size=0.2)"
   ]
  },
  {
   "cell_type": "code",
   "execution_count": 37,
   "metadata": {},
   "outputs": [],
   "source": [
    "# Importamos librerías\n",
    "from sklearn.metrics import classification_report,accuracy_score\n",
    "from sklearn import metrics\n",
    "from sklearn.linear_model import LogisticRegression\n",
    "import statsmodels.api as sm"
   ]
  },
  {
   "cell_type": "code",
   "execution_count": 38,
   "metadata": {},
   "outputs": [
    {
     "name": "stdout",
     "output_type": "stream",
     "text": [
      "Optimization terminated successfully.\n",
      "         Current function value: 0.313508\n",
      "         Iterations 9\n",
      "                           Logit Regression Results                           \n",
      "==============================================================================\n",
      "Dep. Variable:                 target   No. Observations:               354033\n",
      "Model:                          Logit   Df Residuals:                   353947\n",
      "Method:                           MLE   Df Model:                           85\n",
      "Date:                Thu, 01 Dec 2022   Pseudo R-squ.:                  0.4490\n",
      "Time:                        10:54:10   Log-Likelihood:            -1.1099e+05\n",
      "converged:                       True   LL-Null:                   -2.0143e+05\n",
      "Covariance Type:            nonrobust   LLR p-value:                     0.000\n",
      "==============================================================================\n",
      "                 coef    std err          z      P>|z|      [0.025      0.975]\n",
      "------------------------------------------------------------------------------\n",
      "const         -1.9025      0.008   -235.348      0.000      -1.918      -1.887\n",
      "D_39           0.1292      0.006     20.492      0.000       0.117       0.142\n",
      "B_1            0.2200      0.008     29.144      0.000       0.205       0.235\n",
      "D_41           0.2510      0.007     37.004      0.000       0.238       0.264\n",
      "D_43           0.2631      0.006     42.819      0.000       0.251       0.275\n",
      "D_46           0.1300      0.006     21.822      0.000       0.118       0.142\n",
      "D_48           0.5380      0.007     73.773      0.000       0.524       0.552\n",
      "B_6           -0.1098      0.023     -4.811      0.000      -0.154      -0.065\n",
      "B_7            0.1640      0.007     22.037      0.000       0.149       0.179\n",
      "B_8            0.4215      0.007     63.638      0.000       0.408       0.434\n",
      "D_51          -0.3972      0.010    -39.840      0.000      -0.417      -0.378\n",
      "D_52          -0.1174      0.007    -17.226      0.000      -0.131      -0.104\n",
      "B_10          -0.0685      0.026     -2.626      0.009      -0.120      -0.017\n",
      "S_5            0.0465      0.006      8.203      0.000       0.035       0.058\n",
      "S_6            0.1726      0.008     22.836      0.000       0.158       0.187\n",
      "R_4            0.1401      0.007     20.376      0.000       0.127       0.154\n",
      "S_7            0.2691      0.006     45.324      0.000       0.257       0.281\n",
      "B_12           0.0090      0.006      1.568      0.117      -0.002       0.020\n",
      "D_59           0.0185      0.006      3.127      0.002       0.007       0.030\n",
      "D_60           0.1462      0.008     18.102      0.000       0.130       0.162\n",
      "S_11          -0.0800      0.006    -12.935      0.000      -0.092      -0.068\n",
      "D_65           0.0347      0.009      3.686      0.000       0.016       0.053\n",
      "S_12           0.0376      0.007      5.780      0.000       0.025       0.050\n",
      "D_69           0.0063      0.005      1.212      0.225      -0.004       0.017\n",
      "S_15           0.1119      0.006     18.356      0.000       0.100       0.124\n",
      "D_75           0.2909      0.007     39.832      0.000       0.277       0.305\n",
      "B_24           0.0716      0.007     10.206      0.000       0.058       0.085\n",
      "R_7            0.0145      0.005      2.846      0.004       0.005       0.025\n",
      "B_25           0.0070      0.006      1.101      0.271      -0.005       0.019\n",
      "B_26           0.0016      0.006      0.264      0.792      -0.010       0.013\n",
      "S_16           0.0306      0.007      4.196      0.000       0.016       0.045\n",
      "D_80           0.0231      0.006      4.100      0.000       0.012       0.034\n",
      "R_10           0.0547      0.006      9.656      0.000       0.044       0.066\n",
      "R_11           0.0848      0.005     17.298      0.000       0.075       0.094\n",
      "B_27           0.0073      0.005      1.357      0.175      -0.003       0.018\n",
      "D_81           0.0904      0.007     12.924      0.000       0.077       0.104\n",
      "S_17           0.0137      0.005      2.872      0.004       0.004       0.023\n",
      "R_13          -0.0079      0.008     -0.956      0.339      -0.024       0.008\n",
      "D_83           0.0436      0.005      9.090      0.000       0.034       0.053\n",
      "R_14           0.0138      0.005      2.896      0.004       0.004       0.023\n",
      "R_15           0.0749      0.005     14.105      0.000       0.065       0.085\n",
      "B_30           0.0730      0.006     12.899      0.000       0.062       0.084\n",
      "S_18           0.0358      0.006      6.050      0.000       0.024       0.047\n",
      "D_86          -0.0518      0.008     -6.648      0.000      -0.067      -0.037\n",
      "R_17          -0.0134      0.006     -2.152      0.031      -0.026      -0.001\n",
      "R_18           0.0031      0.005      0.590      0.555      -0.007       0.013\n",
      "S_19           0.0120      0.005      2.208      0.027       0.001       0.023\n",
      "R_19           0.0081      0.005      1.779      0.075      -0.001       0.017\n",
      "B_32          -0.0130      0.005     -2.814      0.005      -0.022      -0.004\n",
      "S_20           0.0681      0.006     12.345      0.000       0.057       0.079\n",
      "B_33          -0.1924      0.008    -24.774      0.000      -0.208      -0.177\n",
      "R_22           0.0182      0.005      4.033      0.000       0.009       0.027\n",
      "R_23           0.0210      0.005      4.159      0.000       0.011       0.031\n",
      "D_93           0.0260      0.008      3.375      0.001       0.011       0.041\n",
      "D_94          -0.0429      0.012     -3.567      0.000      -0.066      -0.019\n",
      "R_24           0.0693      0.006     12.104      0.000       0.058       0.081\n",
      "D_96          -0.0131      0.008     -1.748      0.081      -0.028       0.002\n",
      "S_22           0.2402      0.024     10.170      0.000       0.194       0.287\n",
      "S_23           0.1143      0.014      8.393      0.000       0.088       0.141\n",
      "S_25          -0.0501      0.005    -10.365      0.000      -0.060      -0.041\n",
      "S_26          -0.0081      0.009     -0.934      0.350      -0.025       0.009\n",
      "D_104         -0.0109      0.006     -1.897      0.058      -0.022       0.000\n",
      "B_36           0.0489      0.004     11.055      0.000       0.040       0.058\n",
      "R_27          -0.1770      0.005    -35.932      0.000      -0.187      -0.167\n",
      "D_109         -0.0220      0.013     -1.758      0.079      -0.047       0.003\n",
      "B_40           0.0040      0.004      0.980      0.327      -0.004       0.012\n",
      "S_27          -0.0519      0.005    -11.380      0.000      -0.061      -0.043\n",
      "D_113         -0.0244      0.006     -3.805      0.000      -0.037      -0.012\n",
      "D_114          0.0027      0.007      0.409      0.683      -0.010       0.016\n",
      "D_116          0.0207      0.005      4.380      0.000       0.011       0.030\n",
      "D_117         -0.0333      0.006     -5.414      0.000      -0.045      -0.021\n",
      "D_119         -0.1745      0.008    -20.674      0.000      -0.191      -0.158\n",
      "D_120          0.0708      0.005     14.029      0.000       0.061       0.081\n",
      "D_121          0.0751      0.009      8.368      0.000       0.057       0.093\n",
      "D_122         -0.0564      0.007     -7.976      0.000      -0.070      -0.043\n",
      "D_123          0.0252      0.006      4.522      0.000       0.014       0.036\n",
      "D_124          0.0385      0.007      5.463      0.000       0.025       0.052\n",
      "D_126          0.0255      0.006      4.308      0.000       0.014       0.037\n",
      "D_127         -0.1950      0.013    -14.485      0.000      -0.221      -0.169\n",
      "D_129         -0.2814      0.007    -41.830      0.000      -0.295      -0.268\n",
      "B_41           0.0449      0.006      7.528      0.000       0.033       0.057\n",
      "D_131          0.1402      0.005     29.621      0.000       0.131       0.149\n",
      "R_28           0.0118      0.004      2.753      0.006       0.003       0.020\n",
      "D_139         -0.0212      0.007     -3.264      0.001      -0.034      -0.008\n",
      "D_140          0.0476      0.005      9.526      0.000       0.038       0.057\n",
      "D_144         -0.0657      0.007     -9.987      0.000      -0.079      -0.053\n",
      "==============================================================================\n"
     ]
    }
   ],
   "source": [
    "# Creamos un Primer modelo utilizando matrices como en scikitlearn y Visualizamos el resumen de la regresión\n",
    "# ==============================================================================\n",
    "# A la matriz de predictores se le tiene que añadir una columna de 1s para el intercept del modelo\n",
    "X_train = sm.add_constant(X_train, prepend=True)\n",
    "modelo = sm.Logit(endog=Y_train, exog=X_train,)\n",
    "modelo = modelo.fit()\n",
    "print(modelo.summary())"
   ]
  },
  {
   "cell_type": "markdown",
   "metadata": {},
   "source": [
    "## Observación \n",
    "Las variables que no aportan al modelo debido a que la probabilidad de Z es mayor al 0.005 (p-value) con lo que no se rechaza H0 (H0 : el predictor xp no contribuye al modelo (βp=0), en presencia del resto de predictores) son:\n",
    "\n",
    "B_10\n",
    "B_12\n",
    "D_69\n",
    "B_25\n",
    "B_26\n",
    "B_27\n",
    "R_13\n",
    "R_17\n",
    "R_18\n",
    "S_19\n",
    "R_19\n",
    "B_32\n",
    "D_96\n",
    "S_26\n",
    "D_104\n",
    "D_109\n",
    "B_40\n",
    "D_114\n",
    "R_28\n",
    "\n",
    "Por otro lado las Variables que si contribuyen al modelo son:\n",
    "\n",
    "D_39\n",
    "B_1\n",
    "D_41\n",
    "D_43\n",
    "D_46\n",
    "D_48\n",
    "B_6\n",
    "B_7\n",
    "B_8\n",
    "D_51\n",
    "D_52\n",
    "S_5\n",
    "S_6\n",
    "R_4\n",
    "S_7\n",
    "D_59\n",
    "D_60\n",
    "S_11\n",
    "D_65\n",
    "S_12\n",
    "S_15\n",
    "D_75\n",
    "B_24\n",
    "R_7\n",
    "S_16\n",
    "D_80\n",
    "R_10\n",
    "R_11\n",
    "D_81\n",
    "S_17\n",
    "D_83\n",
    "R_14\n",
    "R_15\n",
    "B_30\n",
    "S_18\n",
    "D_86\n",
    "S_20\n",
    "B_33\n",
    "R_22\n",
    "R_23\n",
    "D_93\n",
    "D_94\n",
    "R_24\n",
    "S_22\n",
    "S_23\n",
    "S_25\n",
    "B_36\n",
    "R_27\n",
    "S_27\n",
    "D_113\n",
    "D_116\n",
    "D_117\n",
    "D_119\n",
    "D_120\n",
    "D_121\n",
    "D_122\n",
    "D_123\n",
    "D_124\n",
    "D_126\n",
    "D_127\n",
    "D_129\n",
    "B_41\n",
    "D_131\n",
    "D_139\n",
    "D_140\n",
    "D_144"
   ]
  },
  {
   "cell_type": "code",
   "execution_count": 39,
   "metadata": {},
   "outputs": [
    {
     "data": {
      "text/plain": [
       "<AxesSubplot:>"
      ]
     },
     "execution_count": 39,
     "metadata": {},
     "output_type": "execute_result"
    },
    {
     "data": {
      "image/png": "[encoded data removed]",
      "text/plain": [
       "<Figure size 432x288 with 2 Axes>"
      ]
     },
     "metadata": {
      "needs_background": "light"
     },
     "output_type": "display_data"
    }
   ],
   "source": [
    "#Correlación variables de que aportan al modelo\n",
    "corr_D=df[['D_39','B_1','D_41','D_43','D_46','D_48','B_6','B_7','B_8','D_51','D_52','S_5','S_6','R_4','S_7','D_59','D_60',\n",
    "           'S_11','D_65','S_12','S_15','D_75','B_24','R_7','S_16','D_80','R_10','R_11','D_81','S_17','D_83','R_14','R_15',\n",
    "           'B_30','S_18','D_86','S_20','B_33','R_22','R_23','D_93','D_94','R_24','S_22','S_23','S_25','B_36','R_27','S_27',\n",
    "           'D_113','D_116','D_117','D_119','D_120','D_121','D_122','D_123','D_124','D_126','D_127','D_129','B_41','D_131',\n",
    "           'D_139','D_140','D_144','target']].corr(method='pearson')\n",
    "sns.heatmap(corr_D,square=True)"
   ]
  },
  {
   "cell_type": "code",
   "execution_count": 40,
   "metadata": {
    "scrolled": false
   },
   "outputs": [
    {
     "data": {
      "text/html": [
       "<div>\n",
       "<style scoped>\n",
       "    .dataframe tbody tr th:only-of-type {\n",
       "        vertical-align: middle;\n",
       "    }\n",
       "\n",
       "    .dataframe tbody tr th {\n",
       "        vertical-align: top;\n",
       "    }\n",
       "\n",
       "    .dataframe thead th {\n",
       "        text-align: right;\n",
       "    }\n",
       "</style>\n",
       "<table border=\"1\" class=\"dataframe\">\n",
       "  <thead>\n",
       "    <tr style=\"text-align: right;\">\n",
       "      <th></th>\n",
       "      <th>level_0</th>\n",
       "      <th>level_1</th>\n",
       "      <th>0</th>\n",
       "    </tr>\n",
       "  </thead>\n",
       "  <tbody>\n",
       "    <tr>\n",
       "      <th>2203</th>\n",
       "      <td>target</td>\n",
       "      <td>D_48</td>\n",
       "      <td>0.527277</td>\n",
       "    </tr>\n",
       "    <tr>\n",
       "      <th>2200</th>\n",
       "      <td>target</td>\n",
       "      <td>D_75</td>\n",
       "      <td>0.446553</td>\n",
       "    </tr>\n",
       "    <tr>\n",
       "      <th>2198</th>\n",
       "      <td>target</td>\n",
       "      <td>B_7</td>\n",
       "      <td>0.419232</td>\n",
       "    </tr>\n",
       "    <tr>\n",
       "      <th>2195</th>\n",
       "      <td>target</td>\n",
       "      <td>B_1</td>\n",
       "      <td>0.378933</td>\n",
       "    </tr>\n",
       "    <tr>\n",
       "      <th>2184</th>\n",
       "      <td>target</td>\n",
       "      <td>B_30</td>\n",
       "      <td>0.337646</td>\n",
       "    </tr>\n",
       "    <tr>\n",
       "      <th>2182</th>\n",
       "      <td>target</td>\n",
       "      <td>S_7</td>\n",
       "      <td>0.335293</td>\n",
       "    </tr>\n",
       "    <tr>\n",
       "      <th>2177</th>\n",
       "      <td>target</td>\n",
       "      <td>B_8</td>\n",
       "      <td>0.322482</td>\n",
       "    </tr>\n",
       "    <tr>\n",
       "      <th>2168</th>\n",
       "      <td>target</td>\n",
       "      <td>D_43</td>\n",
       "      <td>0.259537</td>\n",
       "    </tr>\n",
       "    <tr>\n",
       "      <th>2161</th>\n",
       "      <td>target</td>\n",
       "      <td>D_41</td>\n",
       "      <td>0.240186</td>\n",
       "    </tr>\n",
       "    <tr>\n",
       "      <th>2157</th>\n",
       "      <td>target</td>\n",
       "      <td>R_10</td>\n",
       "      <td>0.230870</td>\n",
       "    </tr>\n",
       "    <tr>\n",
       "      <th>2153</th>\n",
       "      <td>target</td>\n",
       "      <td>D_131</td>\n",
       "      <td>0.226012</td>\n",
       "    </tr>\n",
       "    <tr>\n",
       "      <th>2147</th>\n",
       "      <td>target</td>\n",
       "      <td>R_4</td>\n",
       "      <td>0.218199</td>\n",
       "    </tr>\n",
       "    <tr>\n",
       "      <th>29</th>\n",
       "      <td>target</td>\n",
       "      <td>D_52</td>\n",
       "      <td>-0.226765</td>\n",
       "    </tr>\n",
       "    <tr>\n",
       "      <th>22</th>\n",
       "      <td>target</td>\n",
       "      <td>S_25</td>\n",
       "      <td>-0.243644</td>\n",
       "    </tr>\n",
       "    <tr>\n",
       "      <th>19</th>\n",
       "      <td>target</td>\n",
       "      <td>D_51</td>\n",
       "      <td>-0.249963</td>\n",
       "    </tr>\n",
       "    <tr>\n",
       "      <th>14</th>\n",
       "      <td>target</td>\n",
       "      <td>R_27</td>\n",
       "      <td>-0.269047</td>\n",
       "    </tr>\n",
       "    <tr>\n",
       "      <th>6</th>\n",
       "      <td>target</td>\n",
       "      <td>B_33</td>\n",
       "      <td>-0.440924</td>\n",
       "    </tr>\n",
       "  </tbody>\n",
       "</table>\n",
       "</div>"
      ],
      "text/plain": [
       "     level_0 level_1         0\n",
       "2203  target    D_48  0.527277\n",
       "2200  target    D_75  0.446553\n",
       "2198  target     B_7  0.419232\n",
       "2195  target     B_1  0.378933\n",
       "2184  target    B_30  0.337646\n",
       "2182  target     S_7  0.335293\n",
       "2177  target     B_8  0.322482\n",
       "2168  target    D_43  0.259537\n",
       "2161  target    D_41  0.240186\n",
       "2157  target    R_10  0.230870\n",
       "2153  target   D_131  0.226012\n",
       "2147  target     R_4  0.218199\n",
       "29    target    D_52 -0.226765\n",
       "22    target    S_25 -0.243644\n",
       "19    target    D_51 -0.249963\n",
       "14    target    R_27 -0.269047\n",
       "6     target    B_33 -0.440924"
      ]
     },
     "execution_count": 40,
     "metadata": {},
     "output_type": "execute_result"
    }
   ],
   "source": [
    "#Variables que contribuyen al modelo y su correlación con la variable objetivo\n",
    "upper_corr_D=corr_D.where(np.triu(np.ones(corr_D.shape),k=1).astype(bool))\n",
    "unique_corr_D=upper_corr_D.unstack().dropna()\n",
    "sorted_corr_D=unique_corr_D.sort_values()\n",
    "#sorted_corr_B=corr_B.unstack().sort_values()\n",
    "sorted_corr_D\n",
    "a=pd.DataFrame(sorted_corr_D)\n",
    "a.reset_index(inplace=True)\n",
    "#(a[a[\"level_0\"]=='target'].sort_values(by=0,ascending=False)).where(np.abs(a[0])>.3)\n",
    "b=a[a[\"level_0\"]=='target'].sort_values(by=0,ascending=False)\n",
    "b[np.abs(b[0])>.2]"
   ]
  },
  {
   "cell_type": "markdown",
   "metadata": {},
   "source": [
    "## Comentario\n",
    "El porcentaje de correlación de las variables de entrada que más aportan al modelo con la variable objetivo van del 30% al 52% "
   ]
  },
  {
   "cell_type": "code",
   "execution_count": 41,
   "metadata": {},
   "outputs": [
    {
     "name": "stdout",
     "output_type": "stream",
     "text": [
      "Valor del Accuracy en el conjunto de Test es: 0.8549413054039702\n",
      "\n",
      "\n",
      "              precision    recall  f1-score   support\n",
      "\n",
      "         0.0       0.89      0.92      0.90     65840\n",
      "         1.0       0.75      0.65      0.70     22669\n",
      "\n",
      "    accuracy                           0.85     88509\n",
      "   macro avg       0.82      0.79      0.80     88509\n",
      "weighted avg       0.85      0.85      0.85     88509\n",
      "\n"
     ]
    }
   ],
   "source": [
    "# Visualizamos las métricas de desempeño de nuestro modelo con el conjunto de validación\n",
    "X_test = sm.add_constant(X_test, prepend=True)\n",
    "predict_test_y_log = modelo.predict(exog = X_test)\n",
    "clasificacion = np.where(predict_test_y_log<0.5, 0, 1)\n",
    "print('Valor del Accuracy en el conjunto de Test es:',accuracy_score(Y_test, clasificacion))\n",
    "print(\"\\n\")\n",
    "print(classification_report(Y_test, clasificacion))"
   ]
  },
  {
   "cell_type": "code",
   "execution_count": 42,
   "metadata": {},
   "outputs": [
    {
     "data": {
      "text/plain": [
       "<AxesSubplot:title={'center':'Normalized Confusion Matrix'}, xlabel='Predicted label', ylabel='True label'>"
      ]
     },
     "execution_count": 42,
     "metadata": {},
     "output_type": "execute_result"
    },
    {
     "data": {
      "image/png": "[encoded data removed]",
      "text/plain": [
       "<Figure size 432x288 with 2 Axes>"
      ]
     },
     "metadata": {
      "needs_background": "light"
     },
     "output_type": "display_data"
    }
   ],
   "source": [
    "# Visualizamos la Matriz de Confusión\n",
    "import scikitplot as skplt\n",
    "skplt.metrics.plot_confusion_matrix(Y_test, clasificacion, normalize=True)"
   ]
  },
  {
   "cell_type": "markdown",
   "metadata": {},
   "source": [
    "## Comentario\n",
    "El resultado obtenido de la regresión logística nos indica que atrapa bien los casos que no incumplirán a futuro, sin embargo, se equivoca más en predecir los casos que incumplirán (captura apenas un 65% del total de casos), es decir, con este modelo tenemos más falsos negativos, que en la práctica, y por el caso de uso de clientes que caeran en impago se busca que el modelo tenga precisión (la mayor cantidad de clientes predichos sean verdaderos positivos) y que a su ves capture el patrón lo más posible (que prediga el mayor número posible de verdaderos positivos) para así minimizar las pérdidas monetarias."
   ]
  },
  {
   "cell_type": "markdown",
   "metadata": {},
   "source": [
    "<h2><font color='black'><span style='background :white' >** Modelo 2: Árbol de Decisión **</span></font></h2>\n",
    "En esta sección probabremos el algoritmo de árbol de decisión, veremos si un algoritmo de este estilo puede darnos mejores resultados que clásica regresión lógistica."
   ]
  },
  {
   "cell_type": "code",
   "execution_count": 44,
   "metadata": {},
   "outputs": [],
   "source": [
    "# Importamos la Librería de árboles de decisión\n",
    "from sklearn.tree import DecisionTreeClassifier"
   ]
  },
  {
   "cell_type": "code",
   "execution_count": 45,
   "metadata": {},
   "outputs": [
    {
     "data": {
      "text/plain": [
       "DecisionTreeClassifier(random_state=0)"
      ]
     },
     "execution_count": 45,
     "metadata": {},
     "output_type": "execute_result"
    }
   ],
   "source": [
    "# Construimos un árbol de decisión simple únicamente fijando la semilla\n",
    "DT = DecisionTreeClassifier(random_state=0)\n",
    "# Entrenamos los datos\n",
    "DT.fit(X_train, Y_train)"
   ]
  },
  {
   "cell_type": "code",
   "execution_count": 46,
   "metadata": {},
   "outputs": [
    {
     "name": "stdout",
     "output_type": "stream",
     "text": [
      "Accuracy on Validation set : 0.7966195528138381\n",
      "\n",
      "\n",
      "              precision    recall  f1-score   support\n",
      "\n",
      "         0.0       0.86      0.86      0.86     65840\n",
      "         1.0       0.60      0.61      0.60     22669\n",
      "\n",
      "    accuracy                           0.80     88509\n",
      "   macro avg       0.73      0.73      0.73     88509\n",
      "weighted avg       0.80      0.80      0.80     88509\n",
      "\n"
     ]
    }
   ],
   "source": [
    "#Realizamos predicciones\n",
    "predic_y_dc = DT.predict(X_test)\n",
    "print('Accuracy on Validation set :',accuracy_score(Y_test, predic_y_dc))\n",
    "print(\"\\n\")\n",
    "# Visualizamos métricas de desempeño\n",
    "print(classification_report(Y_test, predic_y_dc))"
   ]
  },
  {
   "cell_type": "code",
   "execution_count": 47,
   "metadata": {
    "scrolled": true
   },
   "outputs": [
    {
     "data": {
      "text/plain": [
       "<AxesSubplot:title={'center':'Normalized Confusion Matrix'}, xlabel='Predicted label', ylabel='True label'>"
      ]
     },
     "execution_count": 47,
     "metadata": {},
     "output_type": "execute_result"
    },
    {
     "data": {
      "image/png": "[encoded data removed]",
      "text/plain": [
       "<Figure size 432x288 with 2 Axes>"
      ]
     },
     "metadata": {
      "needs_background": "light"
     },
     "output_type": "display_data"
    }
   ],
   "source": [
    "# Visualizamos la Matriz de Confusión\n",
    "skplt.metrics.plot_confusion_matrix(Y_test, predic_y_dc, normalize=True)"
   ]
  },
  {
   "cell_type": "markdown",
   "metadata": {},
   "source": [
    "## Observación \n",
    "El modelo de Árbol de Decisión presenta ligeramente un menor desempeño que la Regresión Logística, es decir atrapa solo el 61% de los verdaderos positivos, es decir de cada 10 clientes impagadores el modelo no detecta 4."
   ]
  },
  {
   "cell_type": "markdown",
   "metadata": {},
   "source": [
    "<h2><font color='black'><span style='background :white' >** Modelo 3: Random Forest **</span></font></h2>\n",
    "Debido a que el árbol de decisión simple no arrojo muy buenos resultados probaremos con un modelo ensamblado de árboles de decisión simples."
   ]
  },
  {
   "cell_type": "code",
   "execution_count": 48,
   "metadata": {},
   "outputs": [],
   "source": [
    "# Importamos librería de modelos ensamblados\n",
    "from sklearn import ensemble\n",
    "# Creamos el bosque aleatorio simple (Random Forest).\n",
    "modeloRF = ensemble.RandomForestClassifier(n_estimators = 100, max_features = 'sqrt')"
   ]
  },
  {
   "cell_type": "code",
   "execution_count": 49,
   "metadata": {},
   "outputs": [
    {
     "data": {
      "text/plain": [
       "RandomForestClassifier(max_features='sqrt')"
      ]
     },
     "execution_count": 49,
     "metadata": {},
     "output_type": "execute_result"
    }
   ],
   "source": [
    "# Entrenamos el modelo con los datos train \n",
    "modeloRF.fit(X_train, Y_train)"
   ]
  },
  {
   "cell_type": "code",
   "execution_count": 50,
   "metadata": {},
   "outputs": [
    {
     "name": "stdout",
     "output_type": "stream",
     "text": [
      "Accuracy on Validation set : 0.8587940209470223\n",
      "\n",
      "\n",
      "              precision    recall  f1-score   support\n",
      "\n",
      "         0.0       0.90      0.92      0.91     65840\n",
      "         1.0       0.74      0.69      0.72     22669\n",
      "\n",
      "    accuracy                           0.86     88509\n",
      "   macro avg       0.82      0.80      0.81     88509\n",
      "weighted avg       0.86      0.86      0.86     88509\n",
      "\n"
     ]
    }
   ],
   "source": [
    "#Realizamos predicciones\n",
    "predic_y_rf = modeloRF.predict(X_test)\n",
    "print('Accuracy on Validation set :',accuracy_score(Y_test, predic_y_rf))\n",
    "print(\"\\n\")\n",
    "# Visualizamos métricas de desempeño\n",
    "print(classification_report(Y_test, predic_y_rf))"
   ]
  },
  {
   "cell_type": "code",
   "execution_count": 51,
   "metadata": {},
   "outputs": [
    {
     "data": {
      "text/plain": [
       "<AxesSubplot:title={'center':'Normalized Confusion Matrix'}, xlabel='Predicted label', ylabel='True label'>"
      ]
     },
     "execution_count": 51,
     "metadata": {},
     "output_type": "execute_result"
    },
    {
     "data": {
      "image/png": "[encoded data removed]",
      "text/plain": [
       "<Figure size 432x288 with 2 Axes>"
      ]
     },
     "metadata": {
      "needs_background": "light"
     },
     "output_type": "display_data"
    }
   ],
   "source": [
    "# Visualizamos la Matriz de Confusión\n",
    "skplt.metrics.plot_confusion_matrix(Y_test, predic_y_rf, normalize=True)"
   ]
  },
  {
   "cell_type": "markdown",
   "metadata": {},
   "source": [
    "## Observación \n",
    "El modelo de Random Forest logra una mejora de 4% en la precisión con respecto a la Regresión Logística, ademas de que solo 26 de cada 100 clientes propensos resultan ser falsos positivos."
   ]
  },
  {
   "cell_type": "markdown",
   "metadata": {},
   "source": [
    "# Approach 2\n",
    "\n",
    "A continuación se hará algunos cambios a la preparación de los datos y se validará si se obtiene un mejor desempeño en los modelos propuestos con esta nueva estrategia"
   ]
  },
  {
   "cell_type": "code",
   "execution_count": 52,
   "metadata": {},
   "outputs": [
    {
     "data": {
      "text/html": [
       "<div>\n",
       "<style scoped>\n",
       "    .dataframe tbody tr th:only-of-type {\n",
       "        vertical-align: middle;\n",
       "    }\n",
       "\n",
       "    .dataframe tbody tr th {\n",
       "        vertical-align: top;\n",
       "    }\n",
       "\n",
       "    .dataframe thead th {\n",
       "        text-align: right;\n",
       "    }\n",
       "</style>\n",
       "<table border=\"1\" class=\"dataframe\">\n",
       "  <thead>\n",
       "    <tr style=\"text-align: right;\">\n",
       "      <th></th>\n",
       "      <th>customer_ID</th>\n",
       "      <th>S_2</th>\n",
       "      <th>P_2</th>\n",
       "      <th>D_39</th>\n",
       "      <th>B_1</th>\n",
       "      <th>B_2</th>\n",
       "      <th>R_1</th>\n",
       "      <th>S_3</th>\n",
       "      <th>D_41</th>\n",
       "      <th>B_3</th>\n",
       "      <th>...</th>\n",
       "      <th>D_137</th>\n",
       "      <th>D_138</th>\n",
       "      <th>D_139</th>\n",
       "      <th>D_140</th>\n",
       "      <th>D_141</th>\n",
       "      <th>D_142</th>\n",
       "      <th>D_143</th>\n",
       "      <th>D_144</th>\n",
       "      <th>D_145</th>\n",
       "      <th>target</th>\n",
       "    </tr>\n",
       "  </thead>\n",
       "  <tbody>\n",
       "    <tr>\n",
       "      <th>5230464</th>\n",
       "      <td>f1e881682c6eac031984d20d3620b30514dcdf3ec9ce0d...</td>\n",
       "      <td>2018-01-12</td>\n",
       "      <td>0.875387</td>\n",
       "      <td>0.000703</td>\n",
       "      <td>0.010017</td>\n",
       "      <td>0.812351</td>\n",
       "      <td>0.005092</td>\n",
       "      <td>NaN</td>\n",
       "      <td>0.008048</td>\n",
       "      <td>0.008104</td>\n",
       "      <td>...</td>\n",
       "      <td>NaN</td>\n",
       "      <td>NaN</td>\n",
       "      <td>0.007267</td>\n",
       "      <td>0.005693</td>\n",
       "      <td>0.000360</td>\n",
       "      <td>NaN</td>\n",
       "      <td>0.002976</td>\n",
       "      <td>0.001934</td>\n",
       "      <td>0.008223</td>\n",
       "      <td>0</td>\n",
       "    </tr>\n",
       "    <tr>\n",
       "      <th>35131</th>\n",
       "      <td>01a4df870c9a606a9463f6daa20fcfe6e9fd1d089a3369...</td>\n",
       "      <td>2017-12-08</td>\n",
       "      <td>0.825674</td>\n",
       "      <td>0.008442</td>\n",
       "      <td>0.048399</td>\n",
       "      <td>0.813680</td>\n",
       "      <td>0.001591</td>\n",
       "      <td>0.157129</td>\n",
       "      <td>0.000891</td>\n",
       "      <td>0.006268</td>\n",
       "      <td>...</td>\n",
       "      <td>NaN</td>\n",
       "      <td>NaN</td>\n",
       "      <td>0.003818</td>\n",
       "      <td>0.005072</td>\n",
       "      <td>0.002615</td>\n",
       "      <td>NaN</td>\n",
       "      <td>0.001691</td>\n",
       "      <td>0.009793</td>\n",
       "      <td>0.005945</td>\n",
       "      <td>0</td>\n",
       "    </tr>\n",
       "  </tbody>\n",
       "</table>\n",
       "<p>2 rows × 191 columns</p>\n",
       "</div>"
      ],
      "text/plain": [
       "                                               customer_ID         S_2  \\\n",
       "5230464  f1e881682c6eac031984d20d3620b30514dcdf3ec9ce0d...  2018-01-12   \n",
       "35131    01a4df870c9a606a9463f6daa20fcfe6e9fd1d089a3369...  2017-12-08   \n",
       "\n",
       "              P_2      D_39       B_1       B_2       R_1       S_3      D_41  \\\n",
       "5230464  0.875387  0.000703  0.010017  0.812351  0.005092       NaN  0.008048   \n",
       "35131    0.825674  0.008442  0.048399  0.813680  0.001591  0.157129  0.000891   \n",
       "\n",
       "              B_3  ...  D_137  D_138     D_139     D_140     D_141  D_142  \\\n",
       "5230464  0.008104  ...    NaN    NaN  0.007267  0.005693  0.000360    NaN   \n",
       "35131    0.006268  ...    NaN    NaN  0.003818  0.005072  0.002615    NaN   \n",
       "\n",
       "            D_143     D_144     D_145  target  \n",
       "5230464  0.002976  0.001934  0.008223       0  \n",
       "35131    0.001691  0.009793  0.005945       0  \n",
       "\n",
       "[2 rows x 191 columns]"
      ]
     },
     "execution_count": 52,
     "metadata": {},
     "output_type": "execute_result"
    }
   ],
   "source": [
    "# Cargamos la Base nuevamente\n",
    "df2=pd.read_pickle('df_sample_amex.pkl')\n",
    "df2.head(2)"
   ]
  },
  {
   "cell_type": "code",
   "execution_count": 53,
   "metadata": {},
   "outputs": [],
   "source": [
    "#Eliminamos la Fecha de transacción ya que no nos es util, así como las variables con valores perdidos con más del 18% \n",
    "col_drop2 = ['S_2','customer_ID','D_42','D_49','D_50','D_53','D_56','S_9','B_17','D_66','D_73','D_76','D_77','R_9','D_82',\n",
    "            'B_29','D_87','D_88','D_105','D_106','R_26','D_108','D_110','D_111','B_39','B_42','D_132','D_134','D_135',\n",
    "            'D_136','D_137','D_138','D_142','D_63','D_64','B_31','D_43','D_46','D_48','D_61','D_62','S_27','S_3','S_7'] \n",
    "df2.drop(col_drop2, inplace=True, axis=1)"
   ]
  },
  {
   "cell_type": "code",
   "execution_count": 54,
   "metadata": {},
   "outputs": [
    {
     "data": {
      "text/plain": [
       "(442542, 147)"
      ]
     },
     "execution_count": 54,
     "metadata": {},
     "output_type": "execute_result"
    }
   ],
   "source": [
    "# Visualizamos la dimensión del dataframe\n",
    "df2.shape"
   ]
  },
  {
   "cell_type": "markdown",
   "metadata": {},
   "source": [
    "<h3><font color='black'><span style='background :white' >Missing Values: Extensión de la imputación</span></font></h3>"
   ]
  },
  {
   "cell_type": "markdown",
   "metadata": {},
   "source": [
    "Dado que ya eliminamos variables que tenían un porcentaje significativo de valores perdidos, el approach que seguiremos ahora será eliminar los registros con valores pérdidos a diferencia del primer approah en donde se decidió imputar valores con la mediana."
   ]
  },
  {
   "cell_type": "code",
   "execution_count": 55,
   "metadata": {},
   "outputs": [
    {
     "data": {
      "text/plain": [
       "1.1322404327232924"
      ]
     },
     "execution_count": 55,
     "metadata": {},
     "output_type": "execute_result"
    }
   ],
   "source": [
    "# Obtenemos el % total de valores perdidos que aún quedan en la base\n",
    "df2.isnull().values.mean() * 100"
   ]
  },
  {
   "cell_type": "code",
   "execution_count": 56,
   "metadata": {},
   "outputs": [],
   "source": [
    "# Copiamos el dataframe \n",
    "df2_plus = df2.copy()\n",
    "# Obtenemos los registros con valores perdidos\n",
    "cols_with_missing = [col for col in df2.columns\n",
    "                     if df2[col].isnull().any()]\n",
    "\n",
    "# Hacemos una nueva columna la cual indica que sería imputada\n",
    "for col in cols_with_missing:\n",
    "    df2[col + '_was_missing'] = df2[col].isnull()\n",
    "\n",
    "# Imputacion\n",
    "my_imputer = SimpleImputer()\n",
    "imputed_df2_plus = pd.DataFrame(my_imputer.fit_transform(df2_plus))\n",
    "imputed_df2_plus.columns = df2_plus.columns\n"
   ]
  },
  {
   "cell_type": "code",
   "execution_count": 57,
   "metadata": {},
   "outputs": [
    {
     "data": {
      "text/plain": [
       "(442542, 147)"
      ]
     },
     "execution_count": 57,
     "metadata": {},
     "output_type": "execute_result"
    }
   ],
   "source": [
    "# Visualizamos nuevamente la dimensión del dataframe\n",
    "imputed_df2_plus.shape"
   ]
  },
  {
   "cell_type": "code",
   "execution_count": 58,
   "metadata": {},
   "outputs": [
    {
     "data": {
      "text/plain": [
       "0.0"
      ]
     },
     "execution_count": 58,
     "metadata": {},
     "output_type": "execute_result"
    }
   ],
   "source": [
    "# Verificamos que no existan valores perdidos\n",
    "imputed_df2_plus.isnull().values.mean() * 100"
   ]
  },
  {
   "cell_type": "markdown",
   "metadata": {},
   "source": [
    "<h3><font color='black'><span style='background :white' >Aplicando ingeniería de variables</span></font></h3>"
   ]
  },
  {
   "cell_type": "markdown",
   "metadata": {},
   "source": [
    "Para elegir un conjunto más pequeño de las variables más útiles y para desarrollar inicialmente la métrica que usaremos, la cual se llama \"información mutua\". \n",
    "\n",
    "La información mutua se parece mucho a la correlación en el sentido de que mide una relación entre dos cantidades. La ventaja de la información mutua es que puede detectar cualquier tipo de relación, mientras que la correlación solo detecta relaciones lineales."
   ]
  },
  {
   "cell_type": "code",
   "execution_count": 59,
   "metadata": {},
   "outputs": [],
   "source": [
    "# Partimos el conjunto en Inputs y Target\n",
    "X = imputed_df2_plus.copy()\n",
    "y = imputed_df2_plus.pop(\"target\")\n",
    "\n",
    "#Factorizamos la variables de tipo objeto\n",
    "for colname in X.select_dtypes(\"object\"):\n",
    "    X[colname], _ = X[colname].factorize()\n",
    "# Alas caracteristicas discretas asignamos un tipo int ya que será un proceso de one hot encode\n",
    "discrete_features = X.dtypes == int"
   ]
  },
  {
   "cell_type": "code",
   "execution_count": 60,
   "metadata": {},
   "outputs": [
    {
     "data": {
      "text/plain": [
       "target    0.570220\n",
       "D_75      0.129251\n",
       "B_7       0.124740\n",
       "B_10      0.117618\n",
       "B_37      0.111743\n",
       "D_74      0.105522\n",
       "D_55      0.099991\n",
       "B_33      0.097876\n",
       "D_52      0.072550\n",
       "S_22      0.063555\n",
       "B_8       0.055661\n",
       "S_23      0.052714\n",
       "R_27      0.049646\n",
       "P_3       0.047911\n",
       "D_51      0.044635\n",
       "S_8       0.038058\n",
       "D_41      0.030614\n",
       "P_4       0.028546\n",
       "D_59      0.025749\n",
       "R_6       0.025474\n",
       "B_12      0.023988\n",
       "R_5       0.021652\n",
       "D_120     0.021085\n",
       "D_114     0.020169\n",
       "D_118     0.019482\n",
       "D_133     0.019178\n",
       "S_5       0.018657\n",
       "D_81      0.018263\n",
       "B_26      0.016120\n",
       "D_91      0.012907\n",
       "D_102     0.010754\n",
       "R_24      0.009754\n",
       "R_16      0.009101\n",
       "S_11      0.008644\n",
       "D_145     0.008374\n",
       "D_54      0.008111\n",
       "D_103     0.007947\n",
       "R_13      0.007869\n",
       "S_20      0.007270\n",
       "D_124     0.006160\n",
       "R_17      0.005920\n",
       "B_32      0.004514\n",
       "B_41      0.003689\n",
       "D_94      0.003380\n",
       "R_25      0.002154\n",
       "D_96      0.001723\n",
       "S_19      0.001508\n",
       "B_15      0.000726\n",
       "B_27      0.000000\n",
       "Name: MI Scores, dtype: float64"
      ]
     },
     "execution_count": 60,
     "metadata": {},
     "output_type": "execute_result"
    }
   ],
   "source": [
    "# Definimos una función que nos obtenga la relación mutua ente las variables \n",
    "from sklearn.feature_selection import mutual_info_regression\n",
    "\n",
    "def make_mi_scores(X, y, discrete_features):\n",
    "    mi_scores = mutual_info_regression(X, y, discrete_features=discrete_features)\n",
    "    mi_scores = pd.Series(mi_scores, name=\"MI Scores\", index=X.columns)\n",
    "    mi_scores = mi_scores.sort_values(ascending=False)\n",
    "    return mi_scores\n",
    "\n",
    "mi_scores = make_mi_scores(X, y, discrete_features)\n",
    "mi_scores[::3] "
   ]
  },
  {
   "cell_type": "markdown",
   "metadata": {},
   "source": [
    "## Comentario\n",
    "Graficando los cores obtenidos a través de Información mutua se observan las principales variables que aportan a la variable target, tomando como input el resultado se definen las variables a participar en los modelos posteriores."
   ]
  },
  {
   "cell_type": "code",
   "execution_count": 83,
   "metadata": {},
   "outputs": [
    {
     "data": {
      "image/png": "[encoded data removed]",
      "text/plain": [
       "<Figure size 800x500 with 1 Axes>"
      ]
     },
     "metadata": {
      "needs_background": "light"
     },
     "output_type": "display_data"
    }
   ],
   "source": [
    "# Definimos una función para graficar los scores anteriores\n",
    "def plot_mi_scores(scores):\n",
    "    scores = scores.sort_values(ascending=True)\n",
    "    width = np.arange(len(scores))\n",
    "    ticks = list(scores.index)\n",
    "    plt.barh(width, scores)\n",
    "    plt.yticks(width, ticks)\n",
    "    plt.title(\"Mutual Information Scores\")\n",
    "\n",
    "# Gráficamos los scores anteriores por variables\n",
    "plt.figure(dpi=100, figsize=(8, 5))\n",
    "plot_mi_scores(mi_scores)"
   ]
  },
  {
   "cell_type": "code",
   "execution_count": 62,
   "metadata": {},
   "outputs": [],
   "source": [
    "# Guardamos el dataset de score en formato .pkl para optimizar espacio\n",
    "mi_scores.to_pickle(\"mi_scores.pkl\")"
   ]
  },
  {
   "cell_type": "code",
   "execution_count": 63,
   "metadata": {},
   "outputs": [],
   "source": [
    "# Guardamos el dataset de valores imputados en formato .pkl para optimizar espacio\n",
    "imputed_df2_plus.to_pickle(\"imputed_df2_plus.pkl\")"
   ]
  },
  {
   "cell_type": "code",
   "execution_count": 64,
   "metadata": {},
   "outputs": [
    {
     "data": {
      "text/plain": [
       "147"
      ]
     },
     "execution_count": 64,
     "metadata": {},
     "output_type": "execute_result"
    }
   ],
   "source": [
    "# Imprimimos el número de variables\n",
    "len(mi_scores)"
   ]
  },
  {
   "cell_type": "code",
   "execution_count": 65,
   "metadata": {},
   "outputs": [],
   "source": [
    "# Guardamos el excel los scores para dar un vistazo posterior\n",
    "mi_scores.to_excel(\"mi_scores.xlsx\")"
   ]
  },
  {
   "cell_type": "code",
   "execution_count": 66,
   "metadata": {},
   "outputs": [],
   "source": [
    "#Filtrando un conjunto de variables que más aportan al modelo a través de Información Mutua\n",
    "X_2 =X[['P_2','B_9','D_44','D_75','B_18','B_7','B_23','B_6','B_10','B_1','B_2','B_37','B_3','B_38','D_74','B_11','D_58','D_55',\n",
    "'B_40','B_33','B_20','B_4','B_19','D_52','B_16','R_1','S_22','D_45','B_22','B_8','S_25','B_25','B_30','S_23','S_24','R_27',\n",
    "'B_28','B_14','P_3','D_47','D_70','D_51','R_3','D_60','D_78','S_8','S_15','D_41','B_5','D_39','P_4','R_2','D_84','D_131','R_10',\n",
    "'D_59','R_6','D_71','D_127','D_79','B_12','D_112','R_5','D_72','D_115','D_114','D_130','D_120','D_68','R_4','D_117','D_128',\n",
    "'D_121','D_118','D_133','D_119','R_7','S_5','B_13','D_81','D_122','D_92','D_113','B_26','D_65','R_8','D_91','B_21','S_16',\n",
    "'D_102','D_141','R_21']]"
   ]
  },
  {
   "cell_type": "code",
   "execution_count": 67,
   "metadata": {
    "scrolled": true
   },
   "outputs": [
    {
     "name": "stdout",
     "output_type": "stream",
     "text": [
      "(442542, 92)\n",
      "(442542,)\n"
     ]
    }
   ],
   "source": [
    "# Nos quedamos con 92 variables que son las que más aportan de acuerdo a su índice de información mutua.\n",
    "print(X_2.shape)\n",
    "print(y.shape)"
   ]
  },
  {
   "cell_type": "markdown",
   "metadata": {},
   "source": [
    "<h2><font color='black'><span style='background :white' >** Modelación Parte 2**</span></font></h2>\n",
    "\n",
    "En esta parte vamos correr nuevamente los modelos que hemos aplicado en el apartado de Modelación Parte 1, esta vez con un conjunto de datos que tiene un tratamiento diferente y ahora con 92 variables en vez de 85."
   ]
  },
  {
   "cell_type": "markdown",
   "metadata": {},
   "source": [
    "<h2><font color='black'><span style='background :white' >** Modelo 1: Regresión Logística **</span></font></h2>\n",
    "El primer modelo a probar es una regresión Logística, la cual es el algoritmo más común para temas de riesgo de crédito."
   ]
  },
  {
   "cell_type": "code",
   "execution_count": 68,
   "metadata": {},
   "outputs": [],
   "source": [
    "# Declaramos librerías a utilizar\n",
    "from sklearn.preprocessing import StandardScaler\n",
    "from sklearn.model_selection import train_test_split\n",
    "from sklearn.metrics import classification_report,accuracy_score\n",
    "from sklearn import metrics\n",
    "from sklearn.linear_model import LogisticRegression\n",
    "import statsmodels.api as sm"
   ]
  },
  {
   "cell_type": "code",
   "execution_count": 69,
   "metadata": {
    "scrolled": false
   },
   "outputs": [
    {
     "name": "stdout",
     "output_type": "stream",
     "text": [
      "Optimization terminated successfully.\n",
      "         Current function value: 0.296673\n",
      "         Iterations 8\n",
      "                           Logit Regression Results                           \n",
      "==============================================================================\n",
      "Dep. Variable:                 target   No. Observations:               354033\n",
      "Model:                          Logit   Df Residuals:                   353940\n",
      "Method:                           MLE   Df Model:                           92\n",
      "Date:                Thu, 01 Dec 2022   Pseudo R-squ.:                  0.4786\n",
      "Time:                        13:22:45   Log-Likelihood:            -1.0503e+05\n",
      "converged:                       True   LL-Null:                   -2.0143e+05\n",
      "Covariance Type:            nonrobust   LLR p-value:                     0.000\n",
      "==============================================================================\n",
      "                 coef    std err          z      P>|z|      [0.025      0.975]\n",
      "------------------------------------------------------------------------------\n",
      "const          0.4562      0.077      5.927      0.000       0.305       0.607\n",
      "P_2           -3.8360      0.045    -85.013      0.000      -3.924      -3.748\n",
      "B_9            0.1222      0.025      4.938      0.000       0.074       0.171\n",
      "D_44           0.5825      0.042     13.977      0.000       0.501       0.664\n",
      "D_75          -0.5336      0.274     -1.947      0.052      -1.071       0.004\n",
      "B_18          -0.8710      0.054    -16.273      0.000      -0.976      -0.766\n",
      "B_7            3.2278      0.310     10.401      0.000       2.620       3.836\n",
      "B_23          -3.0073      0.324     -9.288      0.000      -3.642      -2.373\n",
      "B_6           -0.0569      0.019     -3.049      0.002      -0.094      -0.020\n",
      "B_10          -0.0089      0.005     -1.700      0.089      -0.019       0.001\n",
      "B_1            4.1207      0.401     10.284      0.000       3.335       4.906\n",
      "B_2           -0.1034      0.042     -2.438      0.015      -0.186      -0.020\n",
      "B_37          -1.4001      0.188     -7.458      0.000      -1.768      -1.032\n",
      "B_3            0.7907      0.041     19.308      0.000       0.710       0.871\n",
      "B_38          -0.0263      0.005     -5.136      0.000      -0.036      -0.016\n",
      "D_74           0.2913      0.261      1.117      0.264      -0.220       0.802\n",
      "B_11          -1.9039      0.361     -5.277      0.000      -2.611      -1.197\n",
      "D_58           0.2886      0.066      4.381      0.000       0.160       0.418\n",
      "D_55           0.1311      0.035      3.794      0.000       0.063       0.199\n",
      "B_40       -1.629e-05      0.000     -0.041      0.967      -0.001       0.001\n",
      "B_33           0.1520      0.037      4.145      0.000       0.080       0.224\n",
      "B_20          -0.7014      0.033    -21.276      0.000      -0.766      -0.637\n",
      "B_4            1.5500      0.045     34.584      0.000       1.462       1.638\n",
      "B_19          -0.0453      0.032     -1.400      0.162      -0.109       0.018\n",
      "D_52          -0.4215      0.039    -10.905      0.000      -0.497      -0.346\n",
      "B_16           0.4403      0.035     12.663      0.000       0.372       0.508\n",
      "R_1            0.5721      0.046     12.569      0.000       0.483       0.661\n",
      "S_22          -0.0502      0.026     -1.950      0.051      -0.101       0.000\n",
      "D_45          -0.0359      0.050     -0.712      0.476      -0.135       0.063\n",
      "B_22           0.3065      0.042      7.323      0.000       0.224       0.389\n",
      "B_8            0.4108      0.020     20.714      0.000       0.372       0.450\n",
      "S_25          -0.0042      0.023     -0.181      0.857      -0.050       0.042\n",
      "B_25          -0.0406      0.037     -1.099      0.272      -0.113       0.032\n",
      "B_30          -0.0965      0.021     -4.664      0.000      -0.137      -0.056\n",
      "S_23           0.0903      0.019      4.787      0.000       0.053       0.127\n",
      "S_24           0.0732      0.022      3.356      0.001       0.030       0.116\n",
      "R_27          -0.4316      0.016    -26.599      0.000      -0.463      -0.400\n",
      "B_28          -0.7405      0.065    -11.449      0.000      -0.867      -0.614\n",
      "B_14           0.6238      0.054     11.581      0.000       0.518       0.729\n",
      "P_3            0.3757      0.037     10.027      0.000       0.302       0.449\n",
      "D_47          -0.9884      0.041    -24.273      0.000      -1.068      -0.909\n",
      "D_70           0.3967      0.029     13.559      0.000       0.339       0.454\n",
      "D_51          -1.4562      0.057    -25.435      0.000      -1.568      -1.344\n",
      "R_3            1.2982      0.028     46.704      0.000       1.244       1.353\n",
      "D_60           0.3373      0.026     12.924      0.000       0.286       0.388\n",
      "D_78           0.0088      0.027      0.329      0.742      -0.044       0.061\n",
      "S_8           -0.1894      0.036     -5.192      0.000      -0.261      -0.118\n",
      "S_15           0.7392      0.043     17.216      0.000       0.655       0.823\n",
      "D_41           0.4970      0.040     12.515      0.000       0.419       0.575\n",
      "B_5           -0.3273      0.037     -8.862      0.000      -0.400      -0.255\n",
      "D_39           0.4638      0.024     19.611      0.000       0.417       0.510\n",
      "P_4            0.4778      0.019     25.362      0.000       0.441       0.515\n",
      "R_2           -0.0212      0.044     -0.481      0.630      -0.108       0.065\n",
      "D_84          -0.1652      0.032     -5.088      0.000      -0.229      -0.102\n",
      "D_131          0.5871      0.040     14.659      0.000       0.509       0.666\n",
      "R_10          -0.0783      0.025     -3.194      0.001      -0.126      -0.030\n",
      "D_59           0.0186      0.032      0.579      0.563      -0.044       0.081\n",
      "R_6            0.0087      0.010      0.865      0.387      -0.011       0.029\n",
      "D_71          -0.0495      0.048     -1.032      0.302      -0.144       0.045\n",
      "D_127         -0.4784      0.046    -10.389      0.000      -0.569      -0.388\n",
      "D_79           0.2421      0.045      5.381      0.000       0.154       0.330\n",
      "B_12          -0.1496      0.039     -3.859      0.000      -0.226      -0.074\n",
      "D_112         -0.3804      0.019    -20.242      0.000      -0.417      -0.344\n",
      "R_5           -0.0623      0.052     -1.197      0.231      -0.164       0.040\n",
      "D_72          -0.0111      0.034     -0.329      0.742      -0.077       0.055\n",
      "D_115          0.1046      0.048      2.183      0.029       0.011       0.198\n",
      "D_114         -0.1181      0.015     -7.823      0.000      -0.148      -0.088\n",
      "D_130          0.0836      0.018      4.646      0.000       0.048       0.119\n",
      "D_120          0.0117      0.016      0.717      0.474      -0.020       0.044\n",
      "D_68          -0.0214      0.006     -3.364      0.001      -0.034      -0.009\n",
      "R_4            0.1504      0.066      2.268      0.023       0.020       0.280\n",
      "D_117         -0.0248      0.003     -8.696      0.000      -0.030      -0.019\n",
      "D_128         -0.2198      0.015    -14.930      0.000      -0.249      -0.191\n",
      "D_121          1.0040      0.037     27.506      0.000       0.932       1.076\n",
      "D_118         -0.5047      0.250     -2.022      0.043      -0.994      -0.016\n",
      "D_133         -0.7550      0.039    -19.359      0.000      -0.831      -0.679\n",
      "D_119          0.1039      0.249      0.418      0.676      -0.384       0.592\n",
      "R_7            0.0034      0.003      1.079      0.280      -0.003       0.010\n",
      "S_5            0.1385      0.018      7.753      0.000       0.104       0.174\n",
      "B_13           0.0845      0.042      2.023      0.043       0.003       0.166\n",
      "D_81          -0.0273      0.021     -1.274      0.203      -0.069       0.015\n",
      "D_122         -0.1970      0.033     -5.968      0.000      -0.262      -0.132\n",
      "D_92           0.2184      0.045      4.844      0.000       0.130       0.307\n",
      "D_113         -0.0018      0.034     -0.053      0.957      -0.068       0.065\n",
      "B_26           0.0066      0.003      2.311      0.021       0.001       0.012\n",
      "D_65           0.0351      0.017      2.099      0.036       0.002       0.068\n",
      "R_8            0.1641      0.042      3.882      0.000       0.081       0.247\n",
      "D_91           0.3035      0.062      4.895      0.000       0.182       0.425\n",
      "B_21           0.0370      0.011      3.313      0.001       0.015       0.059\n",
      "S_16           0.0197      0.009      2.130      0.033       0.002       0.038\n",
      "D_102         -0.0293      0.022     -1.351      0.177      -0.072       0.013\n",
      "D_141         -0.1181      0.015     -7.862      0.000      -0.148      -0.089\n",
      "R_21           0.4466      0.052      8.600      0.000       0.345       0.548\n",
      "==============================================================================\n"
     ]
    }
   ],
   "source": [
    "#Estandarización de variables\n",
    "scaler = StandardScaler()\n",
    "X2 = pd.DataFrame(scaler.fit_transform(X_2), index=X_2.index, columns=X_2.columns)\n",
    "\n",
    "#Probando un 80 20 en las bases de train y test para el modelo\n",
    "X_train, X_test, Y_train, Y_test = train_test_split(X_2, y, random_state = 1, shuffle=True, stratify=y, test_size=0.2)\n",
    "\n",
    "# Creamos un Primer modelo utilizando matrices como en scikitlearn y Visualizamos el resumen de la regresión\n",
    "# ==============================================================================\n",
    "# A la matriz de predictores se le tiene que añadir una columna de 1s para el intercept del modelo\n",
    "X_train = sm.add_constant(X_train, prepend=True)\n",
    "modelo = sm.Logit(endog=Y_train, exog=X_train,)\n",
    "modelo = modelo.fit()\n",
    "print(modelo.summary())"
   ]
  },
  {
   "cell_type": "markdown",
   "metadata": {},
   "source": [
    "## Comentario\n",
    "A continuación filtramos las variables cuyo p-value resultó aceptable en la regresión y las observaremos gráficamente."
   ]
  },
  {
   "cell_type": "code",
   "execution_count": 70,
   "metadata": {},
   "outputs": [
    {
     "data": {
      "text/plain": [
       "<AxesSubplot:>"
      ]
     },
     "execution_count": 70,
     "metadata": {},
     "output_type": "execute_result"
    },
    {
     "data": {
      "image/png": "[encoded data removed]",
      "text/plain": [
       "<Figure size 432x288 with 2 Axes>"
      ]
     },
     "metadata": {
      "needs_background": "light"
     },
     "output_type": "display_data"
    }
   ],
   "source": [
    "#Correlación variables de que aportan al modelo\n",
    "corr_D=X[['P_2','B_9','D_44','D_75','B_18','B_7','B_23','B_6','B_1','B_2','B_37','B_3','B_38','B_11','D_58','D_55','B_33',\n",
    "'B_20','B_4','D_52','B_16','R_1','S_22','B_22','B_8','B_30','S_23','S_24','R_27','B_28','B_14','P_3','D_47','D_70','D_51',\n",
    "'R_3','D_60','S_8','S_15','D_41','B_5','D_39','P_4','D_84','D_131','R_10','D_127','D_79','B_12','D_112','D_115','D_114',\n",
    "'D_130','D_68','D_117','D_128','D_121','D_133','S_5','B_13','D_122','D_92','B_26','R_8','D_91','B_21','S_16','D_141','R_21',\n",
    "'target']].corr(method='pearson')\n",
    "sns.heatmap(corr_D,square=True)\n"
   ]
  },
  {
   "cell_type": "code",
   "execution_count": 71,
   "metadata": {},
   "outputs": [
    {
     "name": "stdout",
     "output_type": "stream",
     "text": [
      "Valor del Accuracy en el conjunto de Test es: 0.8614039250245737\n",
      "\n",
      "\n",
      "              precision    recall  f1-score   support\n",
      "\n",
      "         0.0       0.90      0.92      0.91     65840\n",
      "         1.0       0.75      0.69      0.72     22669\n",
      "\n",
      "    accuracy                           0.86     88509\n",
      "   macro avg       0.82      0.80      0.81     88509\n",
      "weighted avg       0.86      0.86      0.86     88509\n",
      "\n"
     ]
    }
   ],
   "source": [
    "# Predecimos sobre el conjunto de test y visualizamos métricas de desempeño\n",
    "X_test = sm.add_constant(X_test, prepend=True)\n",
    "predict_test_y_log = modelo.predict(exog = X_test)\n",
    "clasificacion = np.where(predict_test_y_log<0.5, 0, 1)\n",
    "print('Valor del Accuracy en el conjunto de Test es:',accuracy_score(Y_test, clasificacion))\n",
    "print(\"\\n\")\n",
    "print(classification_report(Y_test, clasificacion))"
   ]
  },
  {
   "cell_type": "code",
   "execution_count": 72,
   "metadata": {},
   "outputs": [
    {
     "data": {
      "text/plain": [
       "<AxesSubplot:title={'center':'Normalized Confusion Matrix'}, xlabel='Predicted label', ylabel='True label'>"
      ]
     },
     "execution_count": 72,
     "metadata": {},
     "output_type": "execute_result"
    },
    {
     "data": {
      "image/png": "[encoded data removed]",
      "text/plain": [
       "<Figure size 432x288 with 2 Axes>"
      ]
     },
     "metadata": {
      "needs_background": "light"
     },
     "output_type": "display_data"
    }
   ],
   "source": [
    "# Visualizamos la Matriz de Confusión\n",
    "#!pip install scikit-plot\n",
    "skplt.metrics.plot_confusion_matrix(Y_test, clasificacion, normalize=True)"
   ]
  },
  {
   "cell_type": "markdown",
   "metadata": {},
   "source": [
    "## Observación\n",
    "\n",
    "Aplicando ingeniería de variables, en este caso Información Mutua el modelo de regresión mejora y atrapa mejor a los casos que caeran en impago en el futuro, en este caso igualando al Modelo Random Forest en captura del patrón que corresponde con la métodología anterior del datatset."
   ]
  },
  {
   "cell_type": "markdown",
   "metadata": {},
   "source": [
    "<h2><font color='black'><span style='background :white' >** Modelo 2: Árbol de decisión **</span></font></h2>\n",
    "En esta sección probabremos el algoritmo de árbol de decisión, veremos si un algoritmo de este estilo puede darnos mejores resultados que clásica regresión lógistica."
   ]
  },
  {
   "cell_type": "code",
   "execution_count": 73,
   "metadata": {},
   "outputs": [
    {
     "name": "stdout",
     "output_type": "stream",
     "text": [
      "Accuracy on Validation set : 0.8048673016303427\n",
      "\n",
      "\n",
      "              precision    recall  f1-score   support\n",
      "\n",
      "         0.0       0.87      0.87      0.87     65840\n",
      "         1.0       0.62      0.62      0.62     22669\n",
      "\n",
      "    accuracy                           0.80     88509\n",
      "   macro avg       0.74      0.74      0.74     88509\n",
      "weighted avg       0.80      0.80      0.80     88509\n",
      "\n"
     ]
    },
    {
     "data": {
      "text/plain": [
       "<AxesSubplot:title={'center':'Normalized Confusion Matrix'}, xlabel='Predicted label', ylabel='True label'>"
      ]
     },
     "execution_count": 73,
     "metadata": {},
     "output_type": "execute_result"
    },
    {
     "data": {
      "image/png": "[encoded data removed]",
      "text/plain": [
       "<Figure size 432x288 with 2 Axes>"
      ]
     },
     "metadata": {
      "needs_background": "light"
     },
     "output_type": "display_data"
    }
   ],
   "source": [
    "# construimos nuevamente el modelo de arbol de decisión simple\n",
    "DT = DecisionTreeClassifier(random_state=0)\n",
    "# Entrenamos el Modelo \n",
    "DT.fit(X_train, Y_train)\n",
    "#Realizamos predicciones\n",
    "predic_y_dc = DT.predict(X_test)\n",
    "# Imprimimos métricas de desempeño\n",
    "print('Accuracy on Validation set :',accuracy_score(Y_test, predic_y_dc))\n",
    "print(\"\\n\")\n",
    "print(classification_report(Y_test, predic_y_dc))\n",
    "# Visualizamos la Matriz de Confusión\n",
    "skplt.metrics.plot_confusion_matrix(Y_test, predic_y_dc, normalize=True)"
   ]
  },
  {
   "cell_type": "markdown",
   "metadata": {},
   "source": [
    "## Observación\n",
    "También observaciomos una ligera mejora (de 1% en la precisión) en el árbol de decisión aplicando ingeniería de variables en el conjunto de datos."
   ]
  },
  {
   "cell_type": "markdown",
   "metadata": {},
   "source": [
    "<h2><font color='black'><span style='background :white' >** Modelo 3: Random Forest **</span></font></h2>\n",
    "Nuevamente probaremos con un modelo ensamblado de árboles de decisión simples."
   ]
  },
  {
   "cell_type": "code",
   "execution_count": 74,
   "metadata": {},
   "outputs": [],
   "source": [
    "# Creamos el bosque aleatorio simple (Random Forest).\n",
    "modeloRF = ensemble.RandomForestClassifier(n_estimators = 100, max_features = 'sqrt')"
   ]
  },
  {
   "cell_type": "code",
   "execution_count": 75,
   "metadata": {},
   "outputs": [
    {
     "data": {
      "text/plain": [
       "RandomForestClassifier(max_features='sqrt')"
      ]
     },
     "execution_count": 75,
     "metadata": {},
     "output_type": "execute_result"
    }
   ],
   "source": [
    "# Entrenamos el modelo con los datos train \n",
    "modeloRF.fit(X_train, Y_train)"
   ]
  },
  {
   "cell_type": "code",
   "execution_count": 76,
   "metadata": {},
   "outputs": [
    {
     "name": "stdout",
     "output_type": "stream",
     "text": [
      "Accuracy on Validation set : 0.8627936142087246\n",
      "\n",
      "\n",
      "              precision    recall  f1-score   support\n",
      "\n",
      "         0.0       0.90      0.91      0.91     65840\n",
      "         1.0       0.74      0.72      0.73     22669\n",
      "\n",
      "    accuracy                           0.86     88509\n",
      "   macro avg       0.82      0.81      0.82     88509\n",
      "weighted avg       0.86      0.86      0.86     88509\n",
      "\n"
     ]
    }
   ],
   "source": [
    "#Realizamos predicciones\n",
    "predic_y_rf_1 = modeloRF.predict(X_test)\n",
    "print('Accuracy on Validation set :',accuracy_score(Y_test, predic_y_rf_1))\n",
    "print(\"\\n\")\n",
    "# Visualizamos métricas de desempeño\n",
    "print(classification_report(Y_test, predic_y_rf_1))"
   ]
  },
  {
   "cell_type": "code",
   "execution_count": 78,
   "metadata": {},
   "outputs": [
    {
     "data": {
      "text/plain": [
       "<AxesSubplot:title={'center':'Normalized Confusion Matrix'}, xlabel='Predicted label', ylabel='True label'>"
      ]
     },
     "execution_count": 78,
     "metadata": {},
     "output_type": "execute_result"
    },
    {
     "data": {
      "image/png": "[encoded data removed]",
      "text/plain": [
       "<Figure size 432x288 with 2 Axes>"
      ]
     },
     "metadata": {
      "needs_background": "light"
     },
     "output_type": "display_data"
    }
   ],
   "source": [
    "# Visualizamos la Matriz de Confusión\n",
    "skplt.metrics.plot_confusion_matrix(Y_test, predic_y_rf_1, normalize=True)"
   ]
  },
  {
   "cell_type": "markdown",
   "metadata": {},
   "source": [
    "## Observación \n",
    "El modelo de Random Forest logra una mejora de 3 % en la captura del patrón con respecto al Random Forest con en elfoque anterior, ademas de que solo 26 de cada 100 clientes propensos resultan ser falsos positivos."
   ]
  },
  {
   "cell_type": "markdown",
   "metadata": {},
   "source": [
    "## Conclusiones Finales\n",
    "\n",
    "Como se puede apreciar dentro del trabajo que se realizó se enfrentaron diversas problemáticas una de ellas es trabajar con grandes volúmenes de información, debido a que el trabajar con información en ordenadores con muy poca capacidad de memoria se tuvo que trabajar con una muestra del 20%.\n",
    "\n",
    "Cabe destacar que mediante el modelo de información mutua en comparación con el modelo de correlación se observó que las variables más significativas para el modelo de correlación fueron :\n",
    "- B_10,B_12,D_69,B_25,B_26,B_27,R_13,R_17,R_18,S_19,R_19,B_32,D_96,S_26,D_104,D_109,B_40,D_114,R_28\n",
    "y para el modelo de información mutua fueron las siguientes.\n",
    "- 'P_2','B_9','D_44','D_75','B_18','B_7','B_23','B_6','B_1','B_2','B_37','B_3','B_38','B_11','D_58',\n",
    "- 'D_55','B_33','B_20','B_4','D_52','B_16','R_1','S_22','B_22','B_8','B_30','S_23','S_24','R_27','B_28',\n",
    "- 'B_14','P_3','D_47','D_70','D_51','R_3','D_60','S_8','S_15','D_41','B_5','D_39','P_4','D_84','D_131',\n",
    "- 'R_10','D_127','D_79','B_12','D_112','D_115','D_114','D_130','D_68','D_117',\n",
    "- 'D_128','D_121','D_133','S_5','B_13','D_122','D_92','B_26','R_8','D_91','B_21','S_16','D_141','R_21'\n",
    "\n",
    "Esto se debe a que mediante el modelo de información mutua analiza no solo las relaciones lineales como es el caso del modelo de correlación esto nos da más seguridad al momento de seleccionar las variables feature para predecir valores futuros, como fue el caso de nuestro trabajo.\n",
    "\n",
    "De los tres tipos de modelos que se proponen obtuvimos los mejores resultados en todos aplicando Ingeniería de variables. Nuestros Resultados son:\n",
    "\n",
    "1. Regresión Logística: Captura el 69% del patrón (de cada 100 clientes que caerán en impago 69 son predichos por el modelo y 31 se le escapan) y tiene una precisión de 75% (de cada 100 clientes que el modelo dice que incumplirán, 75 resultan ser positivos reales).\n",
    "\n",
    "2. Árbol de Decisión: Captura el 62% del patrón (de cada 100 clientes que caerán en impago 69 son predichos por el modelo y 31 se le escapan) y tiene una precisión de 62% (de cada 100 clientes que el modelo dice que incumplirán, 62 resultan ser positivos reales).\n",
    "\n",
    "3. Random Forest: Captura el 74% del patrón (de cada 100 clientes que caerán en impago 69 son predichos por el modelo y 31 se le escapan) y tiene una precisión de 73% (de cada 100 clientes que el modelo dice que incumplirán, 73 resultan ser positivos reales).\n",
    "\n",
    "De lo anterior podríamos concluir que el mejor modelo es el que utiliza el Random Forest, con una diferencia de 1% en la captura del patrón con respecto a la Regresión Logística. Sin embargo dado que la diferencia es muy poca nosotros optaríamos por seleccionar a la regresión logística como el modelo campeón, esto debido a que es un algoritmo que puede explicar mejor la influencia de las variables utilizadas en el caso de caer en impago, lo cual resulta ser de mayor utilidad para el planteamiento de estrategias que minimicen este riesgo.\n",
    "\n",
    "## Sugerencias para mejoras\n",
    "\n",
    "Dentro de este trabajo hemos incluido modelos muy simples obteniendo resultados muy aceptables para su uso, sin embargo reconocemos que se puede llegar a mejorar bastante probando otro tipo de procesamiento a las variables, probar con distintos hiperparámetos en los algoritmos e incluso probar con otros de mayor complejidad; estamos seguros de que se obtendrían mejoras tanto en la precisión como en la captura del patrón que es el objetivo principal dentro de este caso de negocio."
   ]
  },
  {
   "cell_type": "markdown",
   "metadata": {},
   "source": [
    "### Liga donde se puede consultar los datos y el trabajo realizado\n",
    "- https://github.com/pac05an/Equipo_S_modelos_avanzados_infotec"
   ]
  },
  {
   "cell_type": "markdown",
   "metadata": {},
   "source": [
    "\n",
    "## Referencias\n",
    "<ol>\n",
    "<li>https://www.kaggle.com/competitions/amex-default-prediction/</li>\n",
    "<li>Gunter Löffler &amp; Peter N. Posch, Credit Risk Modeling Using Excel and VBA,\n",
    "2011 John Wiley &amp; Sons.</li>\n",
    "<li>Comisión Nacional Bancaria y de Valores CNBV,https://www.cnbv.gob.mx/Normatividad/Disposiciones%20de%20car%C3%A1cter%20general%20aplicables%20a%20las%20instituciones%20de%20cr%C3%A9dito.pdf , junio de 2022</li>\n",
    "<li>BBVA 2010,probabilidades de incumlimiento,https://accionistaseinversores.bbva.com/microsites/informes2009/es/Gestiondelriesgo/Probabilidaddeincumplimientopd.html</li>\n",
    " <li> Banco de México, https://www.banxico.org.mx/publicaciones-y-prensa/reportes-sobre-el-sistema-financiero/recuadros/%7BE165B93E-88FF-4195-B476-0FF711A6BC78%7D.pdf</li>\n",
    "</ol>"
   ]
  },
  {
   "cell_type": "code",
   "execution_count": null,
   "metadata": {},
   "outputs": [],
   "source": []
  }
 ],
 "metadata": {
  "kernelspec": {
   "display_name": "Python 3 (ipykernel)",
   "language": "python",
   "name": "python3"
  },
  "language_info": {
   "codemirror_mode": {
    "name": "ipython",
    "version": 3
   },
   "file_extension": ".py",
   "mimetype": "text/x-python",
   "name": "python",
   "nbconvert_exporter": "python",
   "pygments_lexer": "ipython3",
   "version": "3.9.12"
  }
 },
 "nbformat": 4,
 "nbformat_minor": 2
}
